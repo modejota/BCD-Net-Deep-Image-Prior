{
 "cells": [
  {
   "cell_type": "code",
   "execution_count": 1,
   "metadata": {},
   "outputs": [
    {
     "name": "stdout",
     "output_type": "stream",
     "text": [
      "1.12.1\n",
      "using device: cuda:3\n",
      "data_path                : /data/BasesDeDatos/Camelyon/Camelyon17/training/patches_224/\n",
      "log_dir                  : ./log\n",
      "save_model_dir           : ./weights/\n",
      "save_model_freq          : 20\n",
      "batch_size               : 16\n",
      "patch_size               : 128\n",
      "epochs                   : 5\n",
      "pretraining_epochs       : 1\n",
      "num_workers              : 64\n",
      "val_prop                 : 0.1\n",
      "lr_C                     : 0.0001\n",
      "lr_M                     : 0.0001\n",
      "gamma                    : 0.1\n",
      "clip_grad_C              : 10000.0\n",
      "clip_grad_M              : 100000.0\n",
      "sigmaRui_h_sq            : 0.001\n",
      "sigmaRui_e_sq            : 0.001\n",
      "theta                    : 0.5\n",
      "pre_kl                   : 100.0\n",
      "pre_mse                  : 0.01\n",
      "CNet                     : unet_6\n",
      "MNet                     : resnet_18_in\n"
     ]
    }
   ],
   "source": [
    "import time\n",
    "import os\n",
    "import sys\n",
    "import torchvision\n",
    "import torch\n",
    "import torch.nn as nn\n",
    "import torch.optim as optim\n",
    "import torch.nn.functional as F\n",
    "\n",
    "from torchmetrics import PeakSignalNoiseRatio\n",
    "\n",
    "from tqdm import tqdm\n",
    "\n",
    "#from torch.utils.tensorboard import SummaryWriter\n",
    "# import scipy.io\n",
    "# from utils.utils_metric import batch_PSNR, batch_SSIM\n",
    "\n",
    "import options \n",
    "\n",
    "from datasets.main_dataset import get_dataloaders\n",
    "from models.DVBCDModel import DVBCDModel\n",
    "\n",
    "print(torch.__version__)\n",
    "torch.backends.cudnn.enabled = True\n",
    "torch.backends.cudnn.benchmark = True\n",
    "torch.autograd.set_detect_anomaly(True)\n",
    "\n",
    "USE_GPU = True\n",
    "os.environ[\"CUDA_DEVICE_ORDER\"]=\"PCI_BUS_ID\"\n",
    "if USE_GPU and torch.cuda.is_available():\n",
    "    DEVICE = torch.device('cuda:3')\n",
    "else:\n",
    "    DEVICE = torch.device('cpu')\n",
    "print('using device:', DEVICE)\n",
    "#args = set_opts()\n",
    "args = options.set_opts_jp()\n",
    "for arg in vars(args):\n",
    "    print('{:<25s}: {:s}'.format(arg, str(getattr(args, arg))))"
   ]
  },
  {
   "cell_type": "code",
   "execution_count": 2,
   "metadata": {},
   "outputs": [
    {
     "name": "stdout",
     "output_type": "stream",
     "text": [
      "Available patches: 1247945\n",
      "Available patches: 1813651\n",
      "62398 15600\n"
     ]
    }
   ],
   "source": [
    "#args.train_data_path = '/data/BasesDeDatos/Camelyon/Camelyon17/training/Toy/'\n",
    "args.data_path = '/data/BasesDeDatos/Camelyon/Camelyon17/training/patches_224/'\n",
    "\n",
    "#dataloaders = get_dataloaders(args.data_path, args.patch_size, args.batch_size, args.num_workers, val_prop=0.3)\n",
    "dataloaders = get_dataloaders(args.data_path, 224, 16, 64, val_prop=0.2)\n",
    "\n",
    "train_dataloader = dataloaders['train']\n",
    "val_dataloader = dataloaders['val']\n",
    "print(len(train_dataloader), len(val_dataloader))\n",
    "test_dataloader = dataloaders['test']"
   ]
  },
  {
   "cell_type": "code",
   "execution_count": 3,
   "metadata": {},
   "outputs": [
    {
     "name": "stdout",
     "output_type": "stream",
     "text": [
      "Epoch 1\n"
     ]
    },
    {
     "name": "stderr",
     "output_type": "stream",
     "text": [
      "Epoch 1 - Training:   0%|          | 64/62398 [00:39<9:47:32,  1.77it/s, train_loss=8.29e+3, train_loss_mse=141, train_loss_kl=82.9]       "
     ]
    }
   ],
   "source": [
    "model = DVBCDModel(args, DEVICE)\n",
    "model.fit(5, train_dataloader, val_dataloader, pretraining=True)"
   ]
  }
 ],
 "metadata": {
  "kernelspec": {
   "display_name": "Python 3.9.13 ('DVBCD')",
   "language": "python",
   "name": "python3"
  },
  "language_info": {
   "codemirror_mode": {
    "name": "ipython",
    "version": 3
   },
   "file_extension": ".py",
   "mimetype": "text/x-python",
   "name": "python",
   "nbconvert_exporter": "python",
   "pygments_lexer": "ipython3",
   "version": "3.9.13"
  },
  "orig_nbformat": 4,
  "vscode": {
   "interpreter": {
    "hash": "c6ad41a6645221cf1bf85d33afd32a0947fad2555ebbd1ea9580495d050a48a0"
   }
  }
 },
 "nbformat": 4,
 "nbformat_minor": 2
}
