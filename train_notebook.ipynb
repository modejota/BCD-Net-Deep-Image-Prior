{
 "cells": [
  {
   "cell_type": "code",
   "execution_count": null,
   "metadata": {},
   "outputs": [],
   "source": [
    "import os\n",
    "import torch\n",
    "\n",
    "from utils.callbacks import EarlyStopping, History\n",
    "\n",
    "\n",
    "from utils.utils_data import get_train_dataloaders, get_test_dataloader\n",
    "from models.DVBCDModel import DVBCDModel\n",
    "\n",
    "print(torch.__version__)\n",
    "torch.backends.cudnn.enabled = True\n",
    "torch.backends.cudnn.benchmark = True\n",
    "torch.autograd.set_detect_anomaly(True)\n",
    "\n",
    "USE_GPU = True\n",
    "os.environ[\"CUDA_DEVICE_ORDER\"]=\"PCI_BUS_ID\"\n",
    "if USE_GPU and torch.cuda.is_available():\n",
    "    DEVICE = torch.device('cuda:3')\n",
    "else:\n",
    "    DEVICE = torch.device('cpu')\n",
    "print('using device:', DEVICE)"
   ]
  },
  {
   "cell_type": "code",
   "execution_count": null,
   "metadata": {},
   "outputs": [],
   "source": [
    "#args.train_data_path = '/data/BasesDeDatos/Camelyon/Camelyon17/training/Toy/'\n",
    "data_path = '/data/BasesDeDatos/Camelyon/Camelyon17/training/patches_224/'\n",
    "\n",
    "#dataloaders = get_dataloaders(args.data_path, args.patch_size, args.batch_size, args.num_workers, val_prop=0.3)\n",
    "train_dataloader, val_dataloader = get_train_dataloaders(data_path, 224, 16, 64, val_prop=0.2, n_samples=2000)\n",
    "\n",
    "print(len(train_dataloader), len(val_dataloader))"
   ]
  },
  {
   "cell_type": "code",
   "execution_count": null,
   "metadata": {},
   "outputs": [],
   "source": [
    "model = DVBCDModel(\n",
    "                cnet_name=\"unet_6\", mnet_name=\"resnet_18_in\", \n",
    "                sigmaRui_sq=torch.tensor([0.05, 0.05]), theta=0.5, lr_cnet=1e-4, \n",
    "                lr_mnet=1e-4, lr_decay=0.1, clip_grad_cnet=1e5, clip_grad_mnet=1e5,\n",
    "                device=DEVICE\n",
    "                )\n",
    "model.set_callbacks([EarlyStopping(model, \"val_loss_mse\", patience=2), History()])\n",
    "model.fit(5, train_dataloader, val_dataloader, pretraining=False)"
   ]
  }
 ],
 "metadata": {
  "kernelspec": {
   "display_name": "Python 3.9.13 ('DVBCD')",
   "language": "python",
   "name": "python3"
  },
  "language_info": {
   "codemirror_mode": {
    "name": "ipython",
    "version": 3
   },
   "file_extension": ".py",
   "mimetype": "text/x-python",
   "name": "python",
   "nbconvert_exporter": "python",
   "pygments_lexer": "ipython3",
   "version": "3.9.13"
  },
  "orig_nbformat": 4,
  "vscode": {
   "interpreter": {
    "hash": "c6ad41a6645221cf1bf85d33afd32a0947fad2555ebbd1ea9580495d050a48a0"
   }
  }
 },
 "nbformat": 4,
 "nbformat_minor": 2
}
