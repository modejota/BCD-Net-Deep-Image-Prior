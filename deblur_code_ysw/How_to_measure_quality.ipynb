{
 "cells": [
  {
   "cell_type": "code",
   "execution_count": null,
   "outputs": [],
   "source": [
    "import tensorflow\n",
    "\n",
    "import os\n",
    "import sys\n",
    "import scipy.io\n",
    "from scipy.io import loadmat\n",
    "\n",
    "import glob\n",
    "import cv2\n",
    "\n",
    "import numpy as np\n",
    "import matplotlib.pyplot as plt\n",
    "# from utils import directDeconvolve, od2rgb, rgb2od, display_M\n",
    "# from utils import  od2rgb, rgb2od, display_M"
   ],
   "metadata": {
    "collapsed": false,
    "pycharm": {
     "name": "#%%\n"
    }
   }
  },
  {
   "cell_type": "code",
   "execution_count": null,
   "outputs": [],
   "source": [
    "from skimage.metrics import structural_similarity, peak_signal_noise_ratio"
   ],
   "metadata": {
    "collapsed": false,
    "pycharm": {
     "name": "#%%\n"
    }
   }
  },
  {
   "cell_type": "code",
   "execution_count": null,
   "outputs": [],
   "source": [
    "\n",
    "def od2rgb(od):\n",
    "    rgb=256*np.exp(-od)-1\n",
    "    return rgb\n",
    "\n",
    "def rgb2od(rgb):\n",
    "    od=(-np.log((rgb+1)/256))\n",
    "    return od\n",
    "\n",
    "def display_M(M):\n",
    "    ns=M.shape[1]\n",
    "    Mdisp=M.T.reshape(1,ns,3)\n",
    "    Mdisp=od2rgb(Mdisp).astype('int')\n",
    "    plt.imshow(Mdisp)\n",
    "    \n",
    "    \n",
    "    \n",
    "def get_range(array):\n",
    "    print('min:',array.min(),'max',array.max(),array.shape)\n",
    "    \n",
    "# def rgb2od(rgb):\n",
    "#     od=(-np.log((rgb+1)/256))\n",
    "#     return od"
   ],
   "metadata": {
    "collapsed": false,
    "pycharm": {
     "name": "#%%\n"
    }
   }
  },
  {
   "cell_type": "markdown",
   "source": [
    "# Original image"
   ],
   "metadata": {
    "collapsed": false
   }
  },
  {
   "cell_type": "code",
   "execution_count": null,
   "outputs": [],
   "source": [
    "RGB_dir= '/data/BasesDeDatos/Alsubaie/Data/RGB_images/Lung/2/02/'\n",
    "patch = cv2.imread(RGB_dir+'02.png')\n",
    "#CV2 lee en BGR en lugar de RGB\n",
    "I_GT= cv2.cvtColor(patch, cv2.COLOR_BGR2RGB)\n",
    "#Las redes de Santiago con las que he trabajado hasta ahora usan el formato (3xMxN)\n",
    "# patch = patch.transpose((2, 0, 1)).astype(np.float32)/255.0\n",
    "plt.figure(figsize=(10,8))\n",
    "plt.imshow(I_GT)\n",
    "print(I_GT.shape,I_GT.dtype)\n",
    "\n",
    "# Read GROUND TRUTH\n",
    "plt.figure()\n",
    "gt_folder='/data/BasesDeDatos/Alsubaie/Data/GroundTruth/Lung/2/'\n",
    "M_GT=loadmat(gt_folder+'SV.mat')\n",
    "M_GT=M_GT['Stains']\n",
    "M_GT\n",
    "display_M(M_GT)\n",
    "print(M_GT)"
   ],
   "metadata": {
    "collapsed": false,
    "pycharm": {
     "name": "#%%\n"
    }
   }
  },
  {
   "cell_type": "code",
   "execution_count": null,
   "outputs": [],
   "source": [
    "M_RUI=np.array([[0.644211  , 0.092789  , 0.63598099],\n",
    "       [0.716556  , 0.954111  , 0.        ],\n",
    "       [0.266844  , 0.283111  , 0.77170472]])\n",
    "display_M(M_RUI)"
   ],
   "metadata": {
    "collapsed": false,
    "pycharm": {
     "name": "#%%\n"
    }
   }
  },
  {
   "cell_type": "code",
   "execution_count": null,
   "outputs": [],
   "source": [
    "get_range(I_GT)"
   ],
   "metadata": {
    "collapsed": false,
    "pycharm": {
     "name": "#%%\n"
    }
   }
  },
  {
   "cell_type": "code",
   "execution_count": null,
   "outputs": [],
   "source": [
    "Y_GT= rgb2od(I_GT.astype('float')) \n",
    "get_range(Y_GT)\n",
    "norm_CONST = -np.log(1/256)\n",
    "\n",
    "Y_GT_norm = Y_GT / norm_CONST\n",
    "get_range(Y_GT_norm)"
   ],
   "metadata": {
    "collapsed": false,
    "pycharm": {
     "name": "#%%\n"
    }
   }
  },
  {
   "cell_type": "markdown",
   "source": [
    "# Get concentration ground truth\n",
    "\n",
    "This is the classical method, here we use Y with range [0, 5.54]"
   ],
   "metadata": {
    "collapsed": false
   }
  },
  {
   "cell_type": "code",
   "execution_count": null,
   "outputs": [],
   "source": [
    "def directDeconvolve(Y,M):\n",
    "#     I=im2uint(I)\n",
    "    [m,n,c]=Y.shape\n",
    "    Y=Y.reshape(-1,c).T # 3xMN\n",
    "#     Y=rgb2od(Icol)\n",
    "    CT=np.linalg.lstsq(M,Y,rcond=None)[0]\n",
    "    return CT\n",
    "def display_C(C):\n",
    "    H=C[0,:].reshape(2000,2000)\n",
    "    E=C[1,:].reshape(2000,2000)\n",
    "    plt.figure(figsize=(15,10))\n",
    "    plt.subplot(121)\n",
    "    plt.imshow(H.T,cmap='gray')\n",
    "    plt.subplot(122)\n",
    "    plt.imshow(E.T,cmap='gray')\n",
    "    \n",
    "def display_C_rgb(C,M):\n",
    "    ns=C.shape[0]\n",
    "    plt.figure(figsize=(15,10))\n",
    "    \n",
    "    for i in range(ns):\n",
    "        S_od= np.dot(M[:,i].reshape(3,1),C[i,:].reshape(1,-1))\n",
    "        S_rgb = od2rgb(S_od).astype('int')\n",
    "        S_rgb=S_rgb.reshape(3,2000,2000).T\n",
    "        plt.subplot(1,ns,i+1)\n",
    "        plt.imshow(S_rgb)\n",
    "        \n"
   ],
   "metadata": {
    "collapsed": false,
    "pycharm": {
     "name": "#%%\n"
    }
   }
  },
  {
   "cell_type": "code",
   "execution_count": null,
   "outputs": [],
   "source": [
    "C_GT= directDeconvolve(Y_GT.astype('float'),M_GT)\n",
    "get_range(C_GT)"
   ],
   "metadata": {
    "collapsed": false,
    "pycharm": {
     "name": "#%%\n"
    }
   }
  },
  {
   "cell_type": "code",
   "execution_count": null,
   "outputs": [],
   "source": [
    "display_C(C_GT)\n"
   ],
   "metadata": {
    "collapsed": false,
    "pycharm": {
     "name": "#%%\n"
    }
   }
  },
  {
   "cell_type": "code",
   "execution_count": null,
   "outputs": [],
   "source": [
    "display_C_rgb(C_GT,M_GT)"
   ],
   "metadata": {
    "collapsed": false,
    "pycharm": {
     "name": "#%%\n"
    }
   }
  },
  {
   "cell_type": "code",
   "execution_count": null,
   "outputs": [],
   "source": [
    "Y_rec=np.dot(M_GT,C_GT) # (3,2) x (2,MN)\n",
    "get_range(Y_rec)\n",
    "I_rec=od2rgb(Y_rec).astype('int')\n",
    "I_rec=I_rec.reshape(3,2000,2000).T\n",
    "get_range(I_rec)\n",
    "plt.imshow(I_rec)"
   ],
   "metadata": {
    "collapsed": false,
    "pycharm": {
     "name": "#%%\n"
    }
   }
  },
  {
   "cell_type": "code",
   "execution_count": null,
   "outputs": [],
   "source": [
    "np.linalg.norm(Y_GT-Y_rec.reshape(3,2000,2000).T)/Y_rec.size\n",
    "\n"
   ],
   "metadata": {
    "collapsed": false,
    "pycharm": {
     "name": "#%%\n"
    }
   }
  },
  {
   "cell_type": "markdown",
   "source": [
    "# Get concentration with Y_norm [0,1]"
   ],
   "metadata": {
    "collapsed": false
   }
  },
  {
   "cell_type": "code",
   "execution_count": null,
   "outputs": [],
   "source": [
    "C_GT_norm= directDeconvolve(Y_GT_norm.astype('float'),M_GT)\n",
    "get_range(C_GT_norm)\n",
    "\n",
    "#get normal C\n",
    "\n",
    "C_GT = C_GT_norm*norm_CONST\n",
    "get_range(C_GT)"
   ],
   "metadata": {
    "collapsed": false,
    "pycharm": {
     "name": "#%%\n"
    }
   }
  },
  {
   "cell_type": "code",
   "execution_count": null,
   "outputs": [],
   "source": [
    "display_C_rgb(C_GT,M_GT)"
   ],
   "metadata": {
    "collapsed": false,
    "pycharm": {
     "name": "#%%\n"
    }
   }
  },
  {
   "cell_type": "code",
   "execution_count": null,
   "outputs": [],
   "source": [
    "Y_rec=np.dot(M_GT,C_GT) # (3,2) x (2,MN)\n",
    "get_range(Y_rec)\n",
    "I_rec=od2rgb(Y_rec).astype('int')\n",
    "I_rec=I_rec.reshape(3,2000,2000).T\n",
    "get_range(I_rec)\n",
    "plt.imshow(I_rec)"
   ],
   "metadata": {
    "collapsed": false,
    "pycharm": {
     "name": "#%%\n"
    }
   }
  },
  {
   "cell_type": "markdown",
   "source": [
    "# Now, we do the same with the C and M obtained with the network"
   ],
   "metadata": {
    "collapsed": false
   }
  },
  {
   "cell_type": "code",
   "execution_count": null,
   "outputs": [],
   "source": [
    "example_dir='/work/work_ysw/Deblur_Code/test_result/RGB_images/Lung/2/02/'\n",
    "\n",
    "m_h=loadmat(example_dir+'m_h_epoch100.mat')['m_h_result'][0,:]\n",
    "m_h\n",
    "m_e=loadmat(example_dir+'m_e_epoch100.mat')['m_e_result'][0,:]\n",
    "m_e\n",
    "\n",
    "M_read=np.zeros([2,3])\n",
    "M_read[0,:]=m_h\n",
    "M_read[1,:]=m_e\n",
    "M_net= M_read.T\n",
    "\n",
    "display_M(M_net)\n",
    "print(M_net)"
   ],
   "metadata": {
    "collapsed": false,
    "pycharm": {
     "name": "#%%\n"
    }
   }
  },
  {
   "cell_type": "code",
   "execution_count": null,
   "outputs": [],
   "source": [
    "C_read=loadmat(example_dir+'c_epoch100.mat')['c_result']\n",
    "get_range(C_read)\n",
    "C_norm=C_read.reshape(2,-1)\n",
    "C_net=C_norm*norm_CONST\n",
    "get_range(C_net)\n",
    "display_C(C_net)"
   ],
   "metadata": {
    "collapsed": false,
    "pycharm": {
     "name": "#%%\n"
    }
   }
  },
  {
   "cell_type": "code",
   "execution_count": null,
   "outputs": [],
   "source": [
    "display_C_rgb(C_net,M_net)"
   ],
   "metadata": {
    "collapsed": false,
    "pycharm": {
     "name": "#%%\n"
    }
   }
  },
  {
   "cell_type": "code",
   "execution_count": null,
   "outputs": [],
   "source": [
    "Y_rec=np.dot(M_net,C_net) # (3,2) x (2,MN)\n",
    "get_range(Y_rec)\n",
    "I_rec=od2rgb(Y_rec).astype('int')\n",
    "I_rec=I_rec.reshape(3,2000,2000).T\n",
    "get_range(I_rec)\n",
    "plt.imshow(I_rec)"
   ],
   "metadata": {
    "collapsed": false,
    "pycharm": {
     "name": "#%%\n"
    }
   }
  },
  {
   "cell_type": "code",
   "execution_count": null,
   "outputs": [],
   "source": [
    "np.linalg.norm(Y_GT-Y_rec.reshape(3,2000,2000).T)/Y_rec.size\n",
    "\n"
   ],
   "metadata": {
    "collapsed": false,
    "pycharm": {
     "name": "#%%\n"
    }
   }
  },
  {
   "cell_type": "markdown",
   "source": [
    "# Something is wrong\n",
    "\n",
    "Let see the expected value for C when we have M_net by doing the direct deconvolution"
   ],
   "metadata": {
    "collapsed": false
   }
  },
  {
   "cell_type": "code",
   "execution_count": null,
   "outputs": [],
   "source": [
    "C_expected=  directDeconvolve(Y_GT.astype('float'),M_net)\n",
    "get_range(C_expected)\n",
    "display_C(C_expected)\n",
    "display_C_rgb(C_expected,M_net)"
   ],
   "metadata": {
    "collapsed": false,
    "pycharm": {
     "name": "#%%\n"
    }
   }
  },
  {
   "cell_type": "code",
   "execution_count": null,
   "outputs": [],
   "source": [
    "plt.figure(figsize=(15,10))\n",
    "n,bins,patches=plt.hist(C_GT.T, color=['b','r'], bins=255)\n",
    "plt.title('Ground Truth')\n",
    "plt.show()\n",
    "plt.figure(figsize=(15,10))\n",
    "n,bins,patches=plt.hist(C_net.T, color=['b','r'], bins=255)\n",
    "plt.title('Cnet')\n",
    "plt.show()\n",
    "plt.figure(figsize=(15,10))\n",
    "n,bins,patches=plt.hist(C_norm.T, color=['b','r'], bins=255)\n",
    "plt.title('Cnorm')\n",
    "plt.show()"
   ],
   "metadata": {
    "collapsed": false,
    "pycharm": {
     "name": "#%%\n"
    }
   }
  },
  {
   "cell_type": "code",
   "execution_count": null,
   "outputs": [],
   "source": [
    "plt.figure(figsize=(15,10))\n",
    "n,bins,patches=plt.hist(C_expected.T, color=['b','r'], bins=255)\n",
    "plt.title('C_expected')\n",
    "plt.show()"
   ],
   "metadata": {
    "collapsed": false,
    "pycharm": {
     "name": "#%%\n"
    }
   }
  },
  {
   "cell_type": "code",
   "execution_count": null,
   "outputs": [],
   "source": [
    "C_v2= C_net.copy()\n",
    "for i in range(C_net.shape[0]):\n",
    "    C_v2[i,:]=C_net[i,:]-np.mean(C_net[i,:])\n",
    "C_v2= C_v2*norm_CONST"
   ],
   "metadata": {
    "collapsed": false,
    "pycharm": {
     "name": "#%%\n"
    }
   }
  },
  {
   "cell_type": "code",
   "execution_count": null,
   "outputs": [],
   "source": [
    "plt.figure(figsize=(15,10))\n",
    "n,bins,patches=plt.hist(C_v2.T, color=['b','r'], bins=255)\n",
    "plt.title('C_v2')\n",
    "plt.show()"
   ],
   "metadata": {
    "collapsed": false,
    "pycharm": {
     "name": "#%%\n"
    }
   }
  },
  {
   "cell_type": "code",
   "execution_count": null,
   "outputs": [],
   "source": [
    "display_C(C_v2)\n",
    "display_C_rgb(C_v2,M_net)"
   ],
   "metadata": {
    "collapsed": false,
    "pycharm": {
     "name": "#%%\n"
    }
   }
  },
  {
   "cell_type": "code",
   "execution_count": null,
   "outputs": [],
   "source": [
    "Y_rec=np.dot(M_net,C_v2) # (3,2) x (2,MN)\n",
    "get_range(Y_rec)\n",
    "I_rec=od2rgb(Y_rec).astype('int')\n",
    "I_rec=I_rec.reshape(3,2000,2000).T\n",
    "get_range(I_rec)\n",
    "plt.imshow(I_rec)\n",
    "print(np.linalg.norm(Y_GT-Y_rec.reshape(3,2000,2000).T)/Y_rec.size)\n",
    "\n"
   ],
   "metadata": {
    "collapsed": false,
    "pycharm": {
     "name": "#%%\n"
    }
   }
  },
  {
   "cell_type": "markdown",
   "source": [
    "# Check the quality using PSNR and SSIM\n",
    "\n",
    "Following previous works, we will calculate PSNR and SSIM on the separated RGB images for H and E."
   ],
   "metadata": {
    "collapsed": false
   }
  },
  {
   "cell_type": "code",
   "execution_count": null,
   "outputs": [],
   "source": [
    "def get_C_rgb(C,M):\n",
    "    ns=C.shape[0]\n",
    "    patch_size=np.sqrt(C.shape[1]).astype('int')\n",
    "    all_images= np.zeros([ns,patch_size,patch_size,3],dtype='uint8')\n",
    "    for i in range(ns):\n",
    "        S_od= np.dot(M[:,i].reshape(3,1),C[i,:].reshape(1,-1))\n",
    "        S_rgb = np.clip(od2rgb(S_od),0,255).astype('uint')\n",
    "        S_rgb=S_rgb.reshape(3,patch_size,patch_size).T\n",
    "        get_range(S_rgb)\n",
    "        all_images[i,:,:,:] = S_rgb\n",
    "    return all_images"
   ],
   "metadata": {
    "collapsed": false,
    "pycharm": {
     "name": "#%%\n"
    }
   }
  },
  {
   "cell_type": "code",
   "execution_count": null,
   "outputs": [],
   "source": [
    "all_images=get_C_rgb(C_expected,M_net)"
   ],
   "metadata": {
    "collapsed": false,
    "pycharm": {
     "name": "#%%\n"
    }
   }
  },
  {
   "cell_type": "code",
   "execution_count": null,
   "outputs": [],
   "source": [
    "stains_GT = get_C_rgb(C_GT,M_GT)"
   ],
   "metadata": {
    "collapsed": false,
    "pycharm": {
     "name": "#%%\n"
    }
   }
  },
  {
   "cell_type": "code",
   "execution_count": null,
   "outputs": [],
   "source": [
    "plt.subplot(121),plt.imshow(all_images[0,:,:,:].astype('int'))\n",
    "plt.subplot(122),plt.imshow(all_images[1,:,:,:].astype('int'))"
   ],
   "metadata": {
    "collapsed": false,
    "pycharm": {
     "name": "#%%\n"
    }
   }
  },
  {
   "cell_type": "code",
   "execution_count": null,
   "outputs": [],
   "source": [
    "all_images=get_C_rgb(C_expected,M_net)\n",
    "print('EXPECTED')\n",
    "psnr_H=peak_signal_noise_ratio(stains_GT[0,:,:,:],all_images[0,:,:,:])\n",
    "psnr_E=peak_signal_noise_ratio(stains_GT[1,:,:,:],all_images[1,:,:,:])\n",
    "print('PSNR',psnr_H,psnr_E)\n",
    "\n",
    "ssim_H=structural_similarity(stains_GT[0,:,:,:],all_images[0,:,:,:],multichannel=True)\n",
    "ssim_E=structural_similarity(stains_GT[1,:,:,:],all_images[1,:,:,:],multichannel=True)\n",
    "\n",
    "print('SSIM',ssim_H,ssim_E)"
   ],
   "metadata": {
    "collapsed": false,
    "pycharm": {
     "name": "#%%\n"
    }
   }
  },
  {
   "cell_type": "code",
   "execution_count": null,
   "outputs": [],
   "source": [
    "print('NETWORK')\n",
    "all_images=get_C_rgb(C_net,M_net)\n",
    "psnr_H=peak_signal_noise_ratio(stains_GT[0,:,:,:],all_images[0,:,:,:])\n",
    "psnr_E=peak_signal_noise_ratio(stains_GT[1,:,:,:],all_images[1,:,:,:])\n",
    "print('PSNR',psnr_H,psnr_E)\n",
    "\n",
    "ssim_H=structural_similarity(stains_GT[0,:,:,:],all_images[0,:,:,:],multichannel=True)\n",
    "ssim_E=structural_similarity(stains_GT[1,:,:,:],all_images[1,:,:,:],multichannel=True)\n",
    "\n",
    "print('SSIM',ssim_H,ssim_E)"
   ],
   "metadata": {
    "collapsed": false,
    "pycharm": {
     "name": "#%%\n"
    }
   }
  },
  {
   "cell_type": "code",
   "execution_count": null,
   "outputs": [],
   "source": [
    "print('MANUALLY CORRECTED')\n",
    "all_images=get_C_rgb(C_v2,M_net)\n",
    "psnr_H=peak_signal_noise_ratio(stains_GT[0,:,:,:],all_images[0,:,:,:])\n",
    "psnr_E=peak_signal_noise_ratio(stains_GT[1,:,:,:],all_images[1,:,:,:])\n",
    "print('PSNR',psnr_H,psnr_E)\n",
    "\n",
    "ssim_H=structural_similarity(stains_GT[0,:,:,:],all_images[0,:,:,:],multichannel=True)\n",
    "ssim_E=structural_similarity(stains_GT[1,:,:,:],all_images[1,:,:,:],multichannel=True)\n",
    "\n",
    "print('SSIM',ssim_H,ssim_E)\n",
    "\n",
    "\n"
   ],
   "metadata": {
    "collapsed": false,
    "pycharm": {
     "name": "#%%\n"
    }
   }
  }
 ],
 "metadata": {
  "kernelspec": {
   "display_name": "Python 3",
   "language": "python",
   "name": "python3"
  },
  "language_info": {
   "codemirror_mode": {
    "name": "ipython",
    "version": 2
   },
   "file_extension": ".py",
   "mimetype": "text/x-python",
   "name": "python",
   "nbconvert_exporter": "python",
   "pygments_lexer": "ipython2",
   "version": "2.7.6"
  }
 },
 "nbformat": 4,
 "nbformat_minor": 0
}