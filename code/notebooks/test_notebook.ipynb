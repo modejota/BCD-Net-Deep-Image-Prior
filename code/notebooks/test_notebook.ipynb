{
 "cells": [
  {
   "cell_type": "code",
   "execution_count": null,
   "metadata": {},
   "outputs": [],
   "source": [
    "import sys\n",
    "sys.path.append('../')\n",
    "\n",
    "import os\n",
    "os.environ[\"CUDA_VISIBLE_DEVICES\"]=\"2,3\"\n",
    "import torch\n",
    "import pandas as pd\n",
    "\n",
    "from utils.utils_data import get_camelyon_test_dataloader, get_wssb_test_dataloader\n",
    "from models.DVBCDModel import DVBCDModel\n",
    "\n",
    "print(torch.__version__)\n",
    "torch.backends.cudnn.enabled = True\n",
    "torch.backends.cudnn.benchmark = True\n",
    "torch.autograd.set_detect_anomaly(True)\n",
    "\n",
    "USE_GPU = True\n",
    "os.environ[\"CUDA_DEVICE_ORDER\"]=\"PCI_BUS_ID\"\n",
    "if USE_GPU and torch.cuda.is_available():\n",
    "    DEVICE = torch.device('cuda')\n",
    "else:\n",
    "    DEVICE = torch.device('cpu')\n",
    "print('using device:', DEVICE)"
   ]
  },
  {
   "cell_type": "code",
   "execution_count": null,
   "metadata": {},
   "outputs": [],
   "source": [
    "MAIN_PATH = \"/work/work_fran/Deep_Var_BCD/\"\n",
    "SAVE_MODEL_PATH = MAIN_PATH + \"weights/0pe_224ps_0.25theta_0.05sigmaRui_60000nsamples/\"\n",
    "\n",
    "N_SAMPLES = 60000\n",
    "PATCH_SIZE = 224\n",
    "NUM_WORKERS = 64\n",
    "WSSB_DATA_PATH = \"/data/BasesDeDatos/Alsubaie/Data/\"\n",
    "CAMELYON_DATA_PATH = \"/data/BasesDeDatos/Camelyon/Camelyon17/training/patches_224/\""
   ]
  },
  {
   "cell_type": "code",
   "execution_count": null,
   "metadata": {},
   "outputs": [],
   "source": [
    "model = DVBCDModel(device=DEVICE)\n",
    "model.load(SAVE_MODEL_PATH + \"best.pt\", remove_module=False)"
   ]
  },
  {
   "cell_type": "code",
   "execution_count": null,
   "metadata": {},
   "outputs": [],
   "source": [
    "test_dataloader_wssb_dict = get_wssb_test_dataloader(WSSB_DATA_PATH, NUM_WORKERS)\n",
    "results_dic_wssb = {}\n",
    "for organ in test_dataloader_wssb_dict.keys():\n",
    "    metrics_wssb = model.evaluate_GT(test_dataloader_wssb_dict[organ])\n",
    "    for k in metrics_wssb.keys():\n",
    "        results_dic_wssb[f\"wssb_{organ}_\" + k] = metrics_wssb[k]\n",
    "res_wssb_df = pd.DataFrame(results_dic_wssb, index=[0])\n",
    "res_wssb_df"
   ]
  },
  {
   "cell_type": "code",
   "execution_count": null,
   "metadata": {},
   "outputs": [],
   "source": [
    "#n_samples_camelyon = int(0.2*N_SAMPLES)\n",
    "#test_dataloader_camelyon = get_camelyon_test_dataloader(CAMELYON_DATA_PATH, PATCH_SIZE, NUM_WORKERS, n_samples_camelyon)\n",
    "#results_dic_camelyon = {}\n",
    "#metrics_camelyon = model.evaluate(test_dataloader_camelyon)\n",
    "#for k in metrics_camelyon.keys():\n",
    "#    results_dic_camelyon[\"camelyon_\" + k] = metrics_camelyon[k]\n",
    "#res_camelyon_df = pd.DataFrame(results_dic_camelyon, index=[0])\n",
    "#res_camelyon_df"
   ]
  }
 ],
 "metadata": {
  "kernelspec": {
   "display_name": "Python 3.9.13 ('DVBCD')",
   "language": "python",
   "name": "python3"
  },
  "language_info": {
   "codemirror_mode": {
    "name": "ipython",
    "version": 3
   },
   "file_extension": ".py",
   "mimetype": "text/x-python",
   "name": "python",
   "nbconvert_exporter": "python",
   "pygments_lexer": "ipython3",
   "version": "3.9.13"
  },
  "orig_nbformat": 4,
  "vscode": {
   "interpreter": {
    "hash": "c6ad41a6645221cf1bf85d33afd32a0947fad2555ebbd1ea9580495d050a48a0"
   }
  }
 },
 "nbformat": 4,
 "nbformat_minor": 2
}
