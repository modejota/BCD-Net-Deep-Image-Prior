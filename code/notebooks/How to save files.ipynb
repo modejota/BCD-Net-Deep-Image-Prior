{
 "cells": [
  {
   "cell_type": "code",
   "execution_count": null,
   "metadata": {},
   "outputs": [],
   "source": [
    "import numpy as np\n",
    "import h5py\n",
    "import matplotlib.pyplot as plt\n",
    "import glob\n",
    "from scipy.io import loadmat,savemat"
   ]
  },
  {
   "cell_type": "code",
   "execution_count": null,
   "metadata": {},
   "outputs": [],
   "source": [
    "original_example ='/work/Camelyon17/work/DECONVOLUCIONES/Original/center_0/patient_000_node_0/no_annotated/patient_000_node_0_xini_133804_yini_73696.jpg'\n",
    "Img= plt.imread(original_example)\n",
    "plt.imshow(Img)"
   ]
  },
  {
   "cell_type": "code",
   "execution_count": null,
   "metadata": {},
   "outputs": [],
   "source": [
    "# READING EXISTING FILE\n",
    "example='/work/Camelyon17/work/DECONVOLUCIONES/BKSVD_MB/center_0/patient_000_node_0/no_annotated/patient_000_node_0_xini_133804_yini_73696.Results.mat'\n",
    "\n",
    "f = h5py.File(example, 'r')\n",
    "CT=f['stains']\n"
   ]
  },
  {
   "cell_type": "code",
   "execution_count": null,
   "metadata": {},
   "outputs": [],
   "source": [
    "print(f.keys())"
   ]
  },
  {
   "cell_type": "code",
   "execution_count": null,
   "metadata": {},
   "outputs": [],
   "source": [
    "print(CT.shape)"
   ]
  },
  {
   "cell_type": "code",
   "execution_count": null,
   "metadata": {},
   "outputs": [],
   "source": [
    "plt.subplot(1,2,1), plt.imshow(CT[0,:,:]),plt.title('H')\n",
    "plt.subplot(1,2,2), plt.imshow(CT[1,:,:]),plt.title('E')"
   ]
  },
  {
   "cell_type": "code",
   "execution_count": null,
   "metadata": {},
   "outputs": [],
   "source": [
    "#SAVING A NEW FILE\n",
    "save_file= '/work/work_fperez/My_Deep_BCD/new_example.mat'\n",
    "\n",
    "h5f = h5py.File(save_file, 'w')\n",
    "h5f.create_dataset('stains', data=CT)\n",
    "# CT is the OD image of H and E with format 2x224x224\n"
   ]
  },
  {
   "cell_type": "code",
   "execution_count": null,
   "metadata": {},
   "outputs": [],
   "source": [
    "glob.glob(save_file)"
   ]
  },
  {
   "cell_type": "code",
   "execution_count": null,
   "metadata": {},
   "outputs": [],
   "source": [
    "#READING THE NEW CREATED FILE TO CHECK IT WAS CORRECT\n",
    "f = h5py.File(save_file, 'r')\n",
    "CT2=f['stains']\n",
    "plt.subplot(1,2,1), plt.imshow(CT2[0,:,:]),plt.title('H')\n",
    "plt.subplot(1,2,2), plt.imshow(CT2[1,:,:]),plt.title('E')"
   ]
  },
  {
   "cell_type": "code",
   "execution_count": null,
   "metadata": {},
   "outputs": [],
   "source": [
    "################################### HOW TO SAVE M #####################################\n",
    "M_file='/work/Camelyon17/work/DECONVOLUCIONES/BKSVD_MB/center_0/patient_000_node_0/M.mat'\n",
    "\n",
    "M=loadmat(M_file)\n",
    "print(M.keys())\n",
    "M=M['M']\n",
    "print(M.shape) #M should be size 3x2 (one column for H and one for E)\n",
    "\n",
    "save_M='/work/work_fperez/My_Deep_BCD/new_example_M.mat'\n",
    "savemat(save_M,{'M':M})"
   ]
  },
  {
   "cell_type": "markdown",
   "metadata": {},
   "source": [
    "# Reading shuowen's files\n",
    "\n",
    "Saved in a different way"
   ]
  },
  {
   "cell_type": "code",
   "execution_count": null,
   "metadata": {},
   "outputs": [],
   "source": [
    "original_file=read_file='/work/work_ysw/Deblur_Code/test_result/BCDnet/center_4/patient_080_node_1/annotated/patient_080_node_1_xini_32629_yini_72947.jpg'\n",
    "read_file='/work/work_ysw/Deblur_Code/test_result/BCDnet/center_4/patient_080_node_1/annotated/patient_080_node_1_xini_32629_yini_72947.jpg.mat'\n",
    "glob.glob(read_file)"
   ]
  },
  {
   "cell_type": "code",
   "execution_count": null,
   "metadata": {},
   "outputs": [],
   "source": [
    "file_mat=loadmat(read_file)\n",
    "C=file_mat['C']\n",
    "M=file_mat['M']"
   ]
  },
  {
   "cell_type": "code",
   "execution_count": null,
   "metadata": {},
   "outputs": [],
   "source": [
    "image=plt.imread(original_file)"
   ]
  },
  {
   "cell_type": "code",
   "execution_count": null,
   "metadata": {},
   "outputs": [],
   "source": [
    "plt.figure(figsize=(15,10))\n",
    "plt.subplot(1,3,1),plt.imshow(image)\n",
    "plt.subplot(1,3,2), plt.imshow(C[0,:,:]),plt.title('H')\n",
    "plt.subplot(1,3,3), plt.imshow(C[1,:,:]),plt.title('E')"
   ]
  },
  {
   "cell_type": "code",
   "execution_count": null,
   "metadata": {},
   "outputs": [],
   "source": [
    "def od2rgb(od):\n",
    "    rgb=np.clip(256*np.exp(-od)-1,0,255).astype('uint8')\n",
    "    return rgb\n",
    "\n",
    "def display_M(M):\n",
    "    ns=M.shape[1]\n",
    "    Mdisp=M.T.reshape(1,ns,3)\n",
    "    Mdisp=od2rgb(Mdisp).astype('int')\n",
    "    plt.imshow(Mdisp)\n",
    "    \n",
    "display_M(M)"
   ]
  }
 ],
 "metadata": {
  "kernelspec": {
   "display_name": "Python 3.9.13 ('DVBCD')",
   "language": "python",
   "name": "python3"
  },
  "language_info": {
   "codemirror_mode": {
    "name": "ipython",
    "version": 3
   },
   "file_extension": ".py",
   "mimetype": "text/x-python",
   "name": "python",
   "nbconvert_exporter": "python",
   "pygments_lexer": "ipython3",
   "version": "3.9.13"
  },
  "vscode": {
   "interpreter": {
    "hash": "c6ad41a6645221cf1bf85d33afd32a0947fad2555ebbd1ea9580495d050a48a0"
   }
  }
 },
 "nbformat": 4,
 "nbformat_minor": 4
}
