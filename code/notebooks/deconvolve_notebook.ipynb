{
 "cells": [
  {
   "cell_type": "code",
   "execution_count": null,
   "metadata": {},
   "outputs": [],
   "source": [
    "import sys\n",
    "sys.path.append('../')\n",
    "\n",
    "import os\n",
    "os.environ[\"CUDA_VISIBLE_DEVICES\"]=\"2\"\n",
    "import torch\n",
    "import h5py\n",
    "\n",
    "from utils.datasets import GeneralDataset\n",
    "from models.DVBCDModel import DVBCDModel\n",
    "\n",
    "print(torch.__version__)\n",
    "torch.backends.cudnn.enabled = True\n",
    "torch.backends.cudnn.benchmark = True\n",
    "torch.autograd.set_detect_anomaly(True)\n",
    "\n",
    "USE_GPU = True\n",
    "os.environ[\"CUDA_DEVICE_ORDER\"]=\"PCI_BUS_ID\"\n",
    "if USE_GPU and torch.cuda.is_available():\n",
    "    DEVICE = torch.device('cuda')\n",
    "else:\n",
    "    DEVICE = torch.device('cpu')\n",
    "print('using device:', DEVICE)"
   ]
  },
  {
   "cell_type": "code",
   "execution_count": null,
   "metadata": {},
   "outputs": [],
   "source": [
    "MAIN_PATH = \"/work/work_fran/Deep_Var_BCD/\"\n",
    "MODEL_NAME = \"0pe_224ps_0.1theta_0.05sigmaRui_60000nsamples\"\n",
    "LOAD_MODEL_PATH = MAIN_PATH + f\"weights/{MODEL_NAME}/\"\n",
    "DATASET_PATH = \"/work/Camelyon17/work/DECONVOLUCIONES/Original/\"\n",
    "SAVE_PATH = \"/work/work_fran/Deep_Var_BCD/results/deconvolutions/\" + f\"BCDNET_{MODEL_NAME}/\""
   ]
  },
  {
   "cell_type": "code",
   "execution_count": null,
   "metadata": {},
   "outputs": [],
   "source": [
    "dataset = GeneralDataset(DATASET_PATH, patch_size=224, n_samples=100)"
   ]
  },
  {
   "cell_type": "code",
   "execution_count": null,
   "metadata": {},
   "outputs": [],
   "source": [
    "model = DVBCDModel(device=DEVICE)\n",
    "model.load(LOAD_MODEL_PATH + \"best.pt\", remove_module=False)"
   ]
  },
  {
   "cell_type": "code",
   "execution_count": null,
   "metadata": {},
   "outputs": [],
   "source": [
    "for idx in range(len(dataset)):\n",
    "    Y, Y_OD = dataset[idx]\n",
    "    file = dataset.image_files[idx]\n",
    "    new_file = file.split(DATASET_PATH)[1]\n",
    "    new_file = new_file.split('.')[0] + \".Results.mat\"\n",
    "    new_file = SAVE_PATH + new_file\n",
    "    print(new_file)\n",
    "    Y_OD = Y_OD.unsqueeze(0)\n",
    "    Y_OD = Y_OD.to(DEVICE)\n",
    "    out_Mnet_mean, _, out_Cnet, _ = model.forward(Y_OD)\n",
    "    out_Mnet_mean = out_Mnet_mean.cpu().detach().numpy()\n",
    "    out_Mnet_mean = out_Mnet_mean.squeeze(0)\n",
    "    out_Cnet = out_Cnet.cpu().detach().numpy()\n",
    "    out_Cnet = out_Cnet.squeeze(0)\n",
    "\n",
    "    if not os.path.exists(os.path.dirname(new_file)):\n",
    "        os.makedirs(os.path.dirname(new_file))\n",
    "\n",
    "    h5f = h5py.File(new_file, 'w')\n",
    "    h5f.create_dataset('M', data=out_Mnet_mean)\n",
    "    h5f.create_dataset('stains', data=out_Cnet)\n",
    "    h5f.close()\n",
    "    break"
   ]
  }
 ],
 "metadata": {
  "kernelspec": {
   "display_name": "Python 3.9.13 ('DVBCD')",
   "language": "python",
   "name": "python3"
  },
  "language_info": {
   "codemirror_mode": {
    "name": "ipython",
    "version": 3
   },
   "file_extension": ".py",
   "mimetype": "text/x-python",
   "name": "python",
   "nbconvert_exporter": "python",
   "pygments_lexer": "ipython3",
   "version": "3.9.13"
  },
  "orig_nbformat": 4,
  "vscode": {
   "interpreter": {
    "hash": "c6ad41a6645221cf1bf85d33afd32a0947fad2555ebbd1ea9580495d050a48a0"
   }
  }
 },
 "nbformat": 4,
 "nbformat_minor": 2
}
