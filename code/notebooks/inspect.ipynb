{
 "cells": [
  {
   "cell_type": "code",
   "execution_count": null,
   "metadata": {},
   "outputs": [],
   "source": [
    "import sys\n",
    "# setting path\n",
    "sys.path.append('../')\n",
    "\n",
    "import os\n",
    "import matplotlib.pyplot as plt\n",
    "import numpy as np\n",
    "\n",
    "os.environ[\"CUDA_DEVICE_ORDER\"]=\"PCI_BUS_ID\"\n",
    "os.environ[\"CUDA_VISIBLE_DEVICES\"]=\"0\"\n",
    "\n",
    "import torch\n",
    "torch.cuda.empty_cache()\n",
    "from models.DVBCDModel import DVBCDModel, peak_signal_noise_ratio\n",
    "from torchmetrics.functional import structural_similarity_index_measure\n",
    "from utils.datasets import CamelyonDataset, WSSBDatasetTest\n",
    "from utils.utils_BCD import undo_normalization, od2rgb_np, C_to_OD_torch, normalize_to1"
   ]
  },
  {
   "cell_type": "code",
   "execution_count": null,
   "metadata": {},
   "outputs": [],
   "source": [
    "print(torch.__version__)\n",
    "torch.backends.cudnn.enabled = True\n",
    "torch.backends.cudnn.benchmark = True\n",
    "torch.autograd.set_detect_anomaly(True)\n",
    "\n",
    "USE_GPU = False\n",
    "if USE_GPU and torch.cuda.is_available():\n",
    "    DEVICE = torch.device('cuda')\n",
    "else:\n",
    "    DEVICE = torch.device('cpu')\n",
    "print('using device:', DEVICE)\n",
    "\n",
    "SAVE_MODEL_PATH = \"/work/work_fran/Deep_Var_BCD/weights/mobilenetv3s_1pe_224ps_0.3theta_0.05sigmaRui_60000nsamples/\"\n",
    "SAVE_FIG_PATH = \"/work/work_fran/Deep_Var_BCD/results/img/\""
   ]
  },
  {
   "cell_type": "code",
   "execution_count": null,
   "metadata": {},
   "outputs": [],
   "source": [
    "model = DVBCDModel().to(DEVICE)\n",
    "model.load(SAVE_MODEL_PATH + \"best.pt\")"
   ]
  },
  {
   "cell_type": "markdown",
   "metadata": {},
   "source": [
    "# Camelyon"
   ]
  },
  {
   "cell_type": "code",
   "execution_count": null,
   "metadata": {},
   "outputs": [],
   "source": [
    "dataset = CamelyonDataset(data_path = \"/data/BasesDeDatos/Camelyon/Camelyon17/training/patches_224/\", centers = [0], patch_size = 224, n_samples = 100)\n",
    "#dataset = WSSBDatasetTest(\"/data/BasesDeDatos/Alsubaie/Data/\", organ_list=[\"Colon\"])"
   ]
  },
  {
   "cell_type": "code",
   "execution_count": null,
   "metadata": {},
   "outputs": [],
   "source": [
    "idx = 3\n",
    "img, mR = dataset[idx]\n",
    "print(img.min(), img.max())\n",
    "#img, od_img, mR, C_gt, M_gt = dataset[idx]"
   ]
  },
  {
   "cell_type": "code",
   "execution_count": null,
   "metadata": {},
   "outputs": [],
   "source": [
    "od_img = model._rgb2od(img).to(DEVICE)\n",
    "out_Mnet_mean, out_Mnet_var, out_Cnet, Y_rec = model.forward(od_img.unsqueeze(0))"
   ]
  },
  {
   "cell_type": "code",
   "execution_count": null,
   "metadata": {},
   "outputs": [],
   "source": [
    "Y_rec_rgb = model._od2rgb(Y_rec)\n",
    "print(Y_rec_rgb.min(), Y_rec_rgb.max())\n",
    "#Y_rec_rgb = torch.clamp(Y_rec_rgb, 0, 255)\n",
    "Y_rec_rgb = 255.0*(Y_rec_rgb - torch.min(Y_rec_rgb)) / (torch.max(Y_rec_rgb) - torch.min(Y_rec_rgb))\n",
    "print(Y_rec_rgb.min(), Y_rec_rgb.max())\n",
    "\n",
    "print(structural_similarity_index_measure(img.unsqueeze(0).to(DEVICE), Y_rec_rgb.to(DEVICE)))\n",
    "print(peak_signal_noise_ratio(img.unsqueeze(0).to(DEVICE), Y_rec_rgb.to(DEVICE)))\n",
    "\n"
   ]
  },
  {
   "cell_type": "code",
   "execution_count": null,
   "metadata": {},
   "outputs": [],
   "source": [
    "img_np = img.detach().cpu().numpy().astype(np.uint).transpose(1,2,0)\n",
    "Y_rec_rgb_np =  Y_rec_rgb.detach().cpu().numpy().squeeze()\n",
    "Y_rec_rgb_np = np.clip(Y_rec_rgb_np, 0, 255).astype(np.uint8)\n",
    "Y_rec_rgb_np = Y_rec_rgb_np.transpose(1,2,0)\n",
    "\n",
    "plt.figure(figsize=(10,10))\n",
    "plt.subplot(1,2,1)\n",
    "plt.imshow(img_np)\n",
    "plt.title(\"Original\")\n",
    "plt.subplot(1,2,2)\n",
    "plt.imshow(Y_rec_rgb_np)\n",
    "plt.title(\"Reconstruction\")\n",
    "#plt.savefig(SAVE_FIG_PATH + f\"camelyon_{idx}idx.pdf\", bbox_inches='tight', pad_inches=0)\n",
    "plt.show()"
   ]
  },
  {
   "cell_type": "code",
   "execution_count": null,
   "metadata": {},
   "outputs": [],
   "source": [
    "C_OD = C_to_OD_torch(out_Cnet, out_Mnet_mean).cpu().detach().numpy().squeeze()\n",
    "H_OD = C_OD[0, :, :, :]\n",
    "H_RGB = od2rgb_np(undo_normalization(H_OD))\n",
    "H_RGB = np.clip(H_RGB, 0, 255).astype(np.uint8)\n",
    "H_RGB = H_RGB.transpose(1,2,0)\n",
    "\n",
    "E_OD = C_OD[1, :, :, :]\n",
    "E_RGB = od2rgb_np(undo_normalization(E_OD))\n",
    "E_RGB = np.clip(E_RGB, 0, 255).astype(np.uint8)\n",
    "E_RGB = E_RGB.transpose(1,2,0)"
   ]
  },
  {
   "cell_type": "code",
   "execution_count": null,
   "metadata": {},
   "outputs": [],
   "source": [
    "# plt.figure(figsize=(10,10))\n",
    "# plt.subplot(2,2,1)\n",
    "# plt.imshow(img_np)\n",
    "# plt.title(\"Original\")\n",
    "# plt.subplot(2,2,2)\n",
    "# plt.imshow(Y_rec_np)\n",
    "# plt.title(\"Reconstruction\")\n",
    "# plt.subplot(2,2,3)\n",
    "# plt.imshow(H_RGB)\n",
    "# plt.title(\"Hematoxylin\")\n",
    "# plt.subplot(2,2,4)\n",
    "# plt.imshow(E_RGB)\n",
    "# plt.title(\"Eosin\")\n",
    "# #plt.savefig(SAVE_FIG_PATH + f\"camelyon_{idx}idx.pdf\", bbox_inches='tight', pad_inches=0)\n",
    "# plt.show()"
   ]
  },
  {
   "cell_type": "markdown",
   "metadata": {},
   "source": [
    "# WSSB"
   ]
  },
  {
   "cell_type": "code",
   "execution_count": null,
   "metadata": {},
   "outputs": [],
   "source": [
    "organ = \"Lung\"\n",
    "dataset = WSSBDatasetTest(\"/data/BasesDeDatos/Alsubaie/Data/\", organ_list=[organ])\n",
    "idx = 0\n",
    "img, mR, M_gt = dataset[idx]\n",
    "od_img = model._rgb2od(img).to(DEVICE)\n",
    "out_Mnet_mean, out_Mnet_var, out_Cnet, Y_rec = model.forward(od_img.unsqueeze(0))"
   ]
  },
  {
   "cell_type": "code",
   "execution_count": null,
   "metadata": {},
   "outputs": [],
   "source": [
    "import time\n",
    "\n",
    "# get the start time\n",
    "st = time.time()\n",
    "out_Mnet_mean, out_Mnet_var, out_Cnet, Y_rec = model.forward(od_img.unsqueeze(0))\n",
    "et = time.time()\n",
    "\n",
    "elapsed_time = et - st\n",
    "print('Execution time:', elapsed_time, 'seconds')"
   ]
  },
  {
   "cell_type": "code",
   "execution_count": null,
   "metadata": {},
   "outputs": [],
   "source": [
    "dataset.image_files"
   ]
  },
  {
   "cell_type": "code",
   "execution_count": null,
   "metadata": {},
   "outputs": [],
   "source": [
    "img_np = img.numpy().astype(np.uint).transpose(1,2,0)\n",
    "\n",
    "Y_rec_np = model._od2rgb(Y_rec).detach().cpu().numpy().squeeze()\n",
    "print(Y_rec_np.min(), Y_rec_np.max())\n",
    "Y_rec_np = np.clip(Y_rec_np, 0.0, 255.0).astype(np.uint8)\n",
    "Y_rec_np = Y_rec_np.transpose(1,2,0)\n",
    "plt.imshow(Y_rec_np)"
   ]
  },
  {
   "cell_type": "code",
   "execution_count": null,
   "metadata": {},
   "outputs": [],
   "source": [
    "# C_GT_OD = C_to_OD_torch(C_gt, M_gt).cpu().detach().numpy().squeeze()\n",
    "# H_OD_GT =  C_GT_OD[0, :, :]\n",
    "# H_RGB_GT = od2rgb_np(H_OD_GT).transpose(1,2,0)\n",
    "# H_RGB_GT = np.clip(H_RGB_GT, 0, 255).astype(np.uint8)\n",
    "# E_OD_GT =  C_GT_OD[1, :, :]\n",
    "# E_RGB_GT = od2rgb_np(E_OD_GT).transpose(1,2,0)\n",
    "# E_RGB_GT = np.clip(E_RGB_GT, 0, 255).astype(np.uint8)\n",
    "\n",
    "#C_OD = C_to_OD_torch(out_Cnet, out_Mnet_mean).cpu().detach().numpy().squeeze()\n",
    "\n",
    "C_OD = torch.einsum('bcs, bshw -> bschw', out_Mnet_mean, out_Cnet).to(\"cpu\").squeeze()\n",
    "H_OD = C_OD[0, :, :, :]\n",
    "H_RGB = model._od2rgb(H_OD)\n",
    "H_RGB = torch.clamp(H_RGB, 0.0, 255.0)\n",
    "H_RGB = H_RGB.detach().numpy()\n",
    "H_RGB = H_RGB.transpose(1,2,0).astype(np.uint8)\n",
    "\n",
    "E_OD = C_OD[1, :, :, :]\n",
    "E_RGB = model._od2rgb(E_OD)\n",
    "E_RGB = torch.clamp(E_RGB, 0.0, 255.0)\n",
    "E_RGB = E_RGB.detach().numpy()\n",
    "E_RGB = E_RGB.transpose(1,2,0).astype(np.uint8)"
   ]
  },
  {
   "cell_type": "code",
   "execution_count": null,
   "metadata": {},
   "outputs": [],
   "source": [
    "H_RGB.shape"
   ]
  },
  {
   "cell_type": "code",
   "execution_count": null,
   "metadata": {},
   "outputs": [],
   "source": [
    "plt.imshow(H_RGB)\n",
    "plt.imsave(\"H_RGB.png\", H_RGB)\n",
    "plt.show()"
   ]
  },
  {
   "cell_type": "code",
   "execution_count": null,
   "metadata": {},
   "outputs": [],
   "source": [
    "fig = plt.figure(figsize=(10,10))\n",
    "plt.imshow(E_RGB)\n",
    "plt.imsave(\"E_RGB.png\", E_RGB)\n",
    "plt.show()"
   ]
  },
  {
   "cell_type": "code",
   "execution_count": null,
   "metadata": {},
   "outputs": [],
   "source": [
    "plt.figure(figsize=(10,15))\n",
    "plt.subplot(3,2,1)\n",
    "plt.imshow(img_np)\n",
    "plt.xlabel(\"Original\")\n",
    "plt.subplot(3,2,2)\n",
    "plt.imshow(Y_rec_np)\n",
    "plt.xlabel(\"Reconstruction\")\n",
    "plt.subplot(3,2,3)\n",
    "plt.imshow(H_RGB_GT)\n",
    "plt.xlabel(\"H GT\")\n",
    "plt.subplot(3,2,4)\n",
    "plt.imshow(H_RGB)\n",
    "plt.xlabel(\"H\")\n",
    "plt.subplot(3,2,5)\n",
    "plt.imshow(E_RGB_GT)\n",
    "plt.xlabel(\"E GT\")\n",
    "plt.subplot(3,2,6)\n",
    "plt.imshow(E_RGB)\n",
    "plt.xlabel(\"E\")\n",
    "#plt.savefig(SAVE_FIG_PATH + f\"wssb_{organ}_{idx}idx.pdf\", bbox_inches='tight', pad_inches=0)\n",
    "\n",
    "plt.show()"
   ]
  }
 ],
 "metadata": {
  "kernelspec": {
   "display_name": "Python 3.9.13 ('DVBCD')",
   "language": "python",
   "name": "python3"
  },
  "language_info": {
   "codemirror_mode": {
    "name": "ipython",
    "version": 3
   },
   "file_extension": ".py",
   "mimetype": "text/x-python",
   "name": "python",
   "nbconvert_exporter": "python",
   "pygments_lexer": "ipython3",
   "version": "3.9.13"
  },
  "orig_nbformat": 4,
  "vscode": {
   "interpreter": {
    "hash": "c6ad41a6645221cf1bf85d33afd32a0947fad2555ebbd1ea9580495d050a48a0"
   }
  }
 },
 "nbformat": 4,
 "nbformat_minor": 2
}
