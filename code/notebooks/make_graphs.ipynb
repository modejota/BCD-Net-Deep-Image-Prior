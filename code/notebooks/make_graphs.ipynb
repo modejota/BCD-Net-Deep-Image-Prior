{
 "cells": [
  {
   "cell_type": "code",
   "execution_count": null,
   "metadata": {},
   "outputs": [],
   "source": [
    "import sys\n",
    "# setting path\n",
    "sys.path.append('../')\n",
    "\n",
    "import pandas as pd\n",
    "import matplotlib.pyplot as plt"
   ]
  },
  {
   "cell_type": "code",
   "execution_count": null,
   "metadata": {},
   "outputs": [],
   "source": [
    "MAIN_PATH = \"/work/work_fran/Deep_Var_BCD/\"\n",
    "HISTORY_PATH = MAIN_PATH + \"history/\"\n",
    "MODEL_NAME = \"mobilenetv3s_0pe_224ps_0.3theta_0.05sigmaRui_60000nsamples\"\n",
    "\n",
    "history_file = HISTORY_PATH + MODEL_NAME + \".csv\""
   ]
  },
  {
   "cell_type": "code",
   "execution_count": null,
   "metadata": {},
   "outputs": [],
   "source": [
    "df = pd.read_csv(history_file)\n",
    "df.head()"
   ]
  },
  {
   "cell_type": "code",
   "execution_count": null,
   "metadata": {},
   "outputs": [],
   "source": [
    "def plot_metric(df, metric, title=None):\n",
    "    plt.plot(df['train_' + metric], label='train')\n",
    "    plt.plot(df['val_' + metric], label='validation')\n",
    "    plt.xlabel('Epoch')\n",
    "    plt.ylabel(metric)\n",
    "    plt.legend()\n",
    "    if title is not None:\n",
    "        plt.title(title)"
   ]
  },
  {
   "cell_type": "code",
   "execution_count": null,
   "metadata": {},
   "outputs": [],
   "source": [
    "plt.figure(figsize=(20, 5))\n",
    "plt.subplot(1, 3, 1)\n",
    "plot_metric(df, 'loss', title='Loss')\n",
    "plt.subplot(1, 3, 2)\n",
    "plot_metric(df, 'loss_mse', title='Loss MSE')\n",
    "plt.subplot(1, 3, 3)\n",
    "plot_metric(df, 'loss_kl', title='Loss KL')\n",
    "plt.show()"
   ]
  }
 ],
 "metadata": {
  "kernelspec": {
   "display_name": "Python 3.9.13 ('DVBCD')",
   "language": "python",
   "name": "python3"
  },
  "language_info": {
   "codemirror_mode": {
    "name": "ipython",
    "version": 3
   },
   "file_extension": ".py",
   "mimetype": "text/x-python",
   "name": "python",
   "nbconvert_exporter": "python",
   "pygments_lexer": "ipython3",
   "version": "3.9.13"
  },
  "orig_nbformat": 4,
  "vscode": {
   "interpreter": {
    "hash": "c6ad41a6645221cf1bf85d33afd32a0947fad2555ebbd1ea9580495d050a48a0"
   }
  }
 },
 "nbformat": 4,
 "nbformat_minor": 2
}
