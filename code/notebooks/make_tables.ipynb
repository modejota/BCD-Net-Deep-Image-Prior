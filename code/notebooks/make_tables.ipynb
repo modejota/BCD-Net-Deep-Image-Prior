{
 "cells": [
  {
   "cell_type": "code",
   "execution_count": null,
   "metadata": {},
   "outputs": [],
   "source": [
    "import sys\n",
    "# setting path\n",
    "sys.path.append('../')\n",
    "\n",
    "import pandas as pd\n",
    "pd.options.mode.chained_assignment = None  # default='warn'"
   ]
  },
  {
   "cell_type": "code",
   "execution_count": null,
   "metadata": {},
   "outputs": [],
   "source": [
    "MAIN_PATH = \"/work/work_fran/Deep_Var_BCD/\"\n",
    "RESULTS_PATH = MAIN_PATH + \"results/metrics/old/\"\n",
    "hyperparam_name = \"theta_val\"\n",
    "hyperparam_show_name = \"theta\""
   ]
  },
  {
   "cell_type": "code",
   "execution_count": null,
   "metadata": {},
   "outputs": [],
   "source": [
    "def highlight_columns(df, cols_idx = None, mode=\"min\"):\n",
    "    if cols_idx is None:\n",
    "        cols = df.columns\n",
    "    else:\n",
    "        cols = df.columns[cols_idx]\n",
    "    new_df = df.copy()\n",
    "    for i in range(len(cols)):\n",
    "        new_col = ['{:5f}'.format(a) for a in df[f\"{cols[i]}\"]]\n",
    "        # Bold max value in each column\n",
    "        if mode == \"max\":\n",
    "            bold_idx = df[f\"{cols[i]}\"].argmax()\n",
    "        elif mode == \"min\":\n",
    "            bold_idx = df[f\"{cols[i]}\"].argmin()\n",
    "        new_col[bold_idx] = \"\\\\mathbf{\" + new_col[bold_idx] + \"}\"\n",
    "        new_col = [\"$\" + s + \"$\" for s in new_col]\n",
    "        new_df = new_df.assign(**{cols[i]: new_col})\n",
    "    return new_df"
   ]
  },
  {
   "cell_type": "markdown",
   "metadata": {},
   "source": [
    "# COMPARATIVA GLOBAL"
   ]
  },
  {
   "cell_type": "code",
   "execution_count": null,
   "metadata": {},
   "outputs": [],
   "source": [
    "path = RESULTS_PATH + \"results_camelyon.csv\"\n",
    "df_cam = pd.read_csv(path)\n",
    "df_cam = df_cam.drop(columns=[\"patch_size\", \"n_samples\"]+[c for c in df_cam.columns if \"loss\" in c])\n",
    "path = RESULTS_PATH + \"results_wssb.csv\"\n",
    "df_wssb = pd.read_csv(path)\n",
    "df_wssb= df_wssb.drop(columns=[\"patch_size\", \"n_samples\"]+[c for c in df_wssb.columns if (\"loss\" in c) or (\"rec\" in c)])\n",
    "new_df_wssb = df_wssb[[\"mnet_name\", \"pretraining_epochs\", \"sigmaRui_sq\", hyperparam_name]]\n",
    "new_df_wssb[\"wssb_mean_test_psnr_gt_h\"] = df_wssb[[c for c in df_wssb.columns if \"psnr_gt_h\" in c]].mean(axis=1)\n",
    "new_df_wssb[\"wssb_mean_test_psnr_gt_e\"] = df_wssb[[c for c in df_wssb.columns if \"psnr_gt_e\" in c]].mean(axis=1)\n",
    "new_df_wssb[\"wssb_mean_test_psnr_gt\"] = (new_df_wssb[[\"wssb_mean_test_psnr_gt_h\", \"wssb_mean_test_psnr_gt_e\"]]).mean(axis=1)\n",
    "new_df_wssb[\"wssb_mean_test_ssim_gt_h\"] = df_wssb[[c for c in df_wssb.columns if \"ssim_gt_h\" in c]].mean(axis=1)\n",
    "new_df_wssb[\"wssb_mean_test_ssim_gt_e\"] = df_wssb[[c for c in df_wssb.columns if \"ssim_gt_e\" in c]].mean(axis=1)\n",
    "new_df_wssb[\"wssb_mean_test_ssim_gt\"] = (new_df_wssb[[\"wssb_mean_test_ssim_gt_h\", \"wssb_mean_test_ssim_gt_e\"]]).mean(axis=1)"
   ]
  },
  {
   "cell_type": "code",
   "execution_count": null,
   "metadata": {},
   "outputs": [],
   "source": [
    "df = pd.merge(df_cam, new_df_wssb, on=[\"mnet_name\", \"pretraining_epochs\", \"sigmaRui_sq\", \"theta_val\"])\n",
    "df = df.drop(columns=[c for c in df.columns if (\"gt_h\" in c) or (\"gt_e\" in c)])\n",
    "\n",
    "df[hyperparam_name] = df[hyperparam_name].astype(str)\n",
    "df = highlight_columns(df, cols_idx=[4], mode=\"min\")\n",
    "df = highlight_columns(df, cols_idx=[5, 6, 7, 8], mode=\"max\")\n",
    "#df = highlight_columns(df, cols_idx=[2], mode=\"min\")\n",
    "#df = highlight_columns(df, cols_idx=[3, 4, 5, 6], mode=\"max\")\n",
    "\n",
    "df = df.sort_values(by=[\"mnet_name\", \"pretraining_epochs\", \"sigmaRui_sq\", \"theta_val\"])\n",
    "\n",
    "df.columns = [\"Mnet\", \"Pre. epochs\", f\"$\\\\theta$\", \"$(\\sigma_s^Rui)^2$\", \"Rec. MSE (Camelyon)\", \"Rec. PSNR (Camelyon)\", \"Rec. SSIM (Camelyon)\", \"GT PSNR (WSSB)\", \"GT SSIM (WSSB)\"]\n",
    "\n",
    "df.set_index([\"Mnet\", \"Pre. epochs\", \"$(\\sigma_s^Rui)^2$\", f\"$\\\\theta$\"], inplace=True)\n",
    "\n",
    "#df"
   ]
  },
  {
   "cell_type": "code",
   "execution_count": null,
   "metadata": {},
   "outputs": [],
   "source": [
    "df = pd.merge(df_cam, new_df_wssb, on=[\"mnet_name\", \"pretraining_epochs\", \"sigmaRui_sq\", \"theta_val\"])\n",
    "df = df.drop(columns=[c for c in df.columns if (\"gt_h\" in c) or (\"gt_e\" in c)])\n",
    "df = df.drop(df[df['sigmaRui_sq'] != 0.05].index)\n",
    "df = df.drop(df[df['mnet_name'] != 'mobilenetv3s'].index)\n",
    "\n",
    "df[hyperparam_name] = df[hyperparam_name].astype(str)"
   ]
  },
  {
   "cell_type": "code",
   "execution_count": null,
   "metadata": {},
   "outputs": [],
   "source": [
    "df = highlight_columns(df, cols_idx=[4], mode=\"min\")\n",
    "df = highlight_columns(df, cols_idx=[5, 6, 7, 8], mode=\"max\")\n",
    "\n",
    "df = df.sort_values(by=[\"mnet_name\", \"pretraining_epochs\", \"sigmaRui_sq\", \"theta_val\"])\n",
    "df.columns = [\"Mnet\", \"Pre. epochs\", f\"$\\\\theta$\", \"$(\\sigma_s^Rui)^2$\", \"Rec. MSE (Camelyon)\", \"Rec. PSNR (Camelyon)\", \"Rec. SSIM (Camelyon)\", \"GT PSNR (WSSB)\", \"GT SSIM (WSSB)\"]\n",
    "df.set_index([\"Mnet\", \"Pre. epochs\", \"$(\\sigma_s^Rui)^2$\", f\"$\\\\theta$\"], inplace=True)\n",
    "\n",
    "df"
   ]
  },
  {
   "cell_type": "code",
   "execution_count": null,
   "metadata": {},
   "outputs": [],
   "source": [
    "styler = df.style\n",
    "#styler = styler.hide(level=0, axis=0)  \n",
    "s = styler.to_latex(\n",
    "    column_format=f\"{ ''.join(['c' for i in range(len(df.columns)+2)]) }\", clines=\"skip-last;data\", \n",
    "    hrules = True, position_float=\"centering\", multirow_align=\"c\", sparse_index=\"True\", \n",
    "    caption=\"Summary of results.\", label=\"tab:results_summary\",\n",
    "    )\n",
    "print(s)"
   ]
  },
  {
   "attachments": {},
   "cell_type": "markdown",
   "metadata": {},
   "source": [
    "## RECONSTRUCTION MSE"
   ]
  },
  {
   "cell_type": "code",
   "execution_count": null,
   "metadata": {},
   "outputs": [],
   "source": [
    "path = RESULTS_PATH + \"results_camelyon.csv\"\n",
    "df = pd.read_csv(path)\n",
    "df = df.drop(df[df['sigmaRui_sq'] != 0.05].index)\n",
    "df = df.drop(df[df['mnet_name'] != 'mobilenetv3s'].index)\n",
    "df = df.drop(df[df['pretraining_epochs'] != 1.0].index)\n",
    "df = df.drop(columns=[\"pretraining_epochs\", \"mnet_name\", \"sigmaRui_sq\", \"patch_size\", \"n_samples\", \"camelyon_test_loss\", \"camelyon_test_loss_mse\", \"camelyon_test_loss_kl\"])\n",
    "df[hyperparam_name] = df[hyperparam_name].astype(str)\n",
    "df = highlight_columns(df, cols_idx=[1], mode=\"min\")\n",
    "df = highlight_columns(df, cols_idx=[2, 3], mode=\"max\")\n",
    "df = df.sort_values(by=[\"theta_val\"])\n",
    "df.set_index([\"theta_val\"], inplace=True)\n",
    "#df.columns = [\"Reconstruction MSE\", \"Reconstruction PSNR\", \"Reconstruction SSIM\"]\n",
    "#df.index.names = [\"$\\\\theta$\"]\n",
    "df_cam = df\n",
    "df_cam.transpose()"
   ]
  },
  {
   "cell_type": "code",
   "execution_count": null,
   "metadata": {},
   "outputs": [],
   "source": [
    "path = RESULTS_PATH + \"results_wssb.csv\"\n",
    "df = pd.read_csv(path)\n",
    "df = df.drop(df[df['sigmaRui_sq'] != 0.05].index)\n",
    "df = df.drop(df[df['mnet_name'] != 'mobilenetv3s'].index)\n",
    "df = df.drop(df[df['pretraining_epochs'] != 1.0].index)\n",
    "df = df.drop(columns=[\"pretraining_epochs\", \"mnet_name\", \"sigmaRui_sq\", \"patch_size\", \"n_samples\"] + [c for c in df.columns if \"loss\" in c])\n",
    "#df = df.drop(columns=[c for c in df.columns if \"gt\" in c])\n",
    "df[hyperparam_name] = df[hyperparam_name].astype(str)\n",
    "\n",
    "df[\"test_mse_rec\"] = (df[\"wssb_Lung_test_mse_rec\"] + df[\"wssb_Breast_test_mse_rec\"] + df[\"wssb_Colon_test_mse_rec\"])/3.0\n",
    "df = df.drop(columns=[\"wssb_Lung_test_mse_rec\", \"wssb_Breast_test_mse_rec\", \"wssb_Colon_test_mse_rec\"])\n",
    "df[\"test_ssim_rec\"] = (df[\"wssb_Lung_test_ssim_rec\"] + df[\"wssb_Breast_test_ssim_rec\"] + df[\"wssb_Colon_test_ssim_rec\"])/3.0\n",
    "df = df.drop(columns=[\"wssb_Lung_test_ssim_rec\", \"wssb_Breast_test_ssim_rec\", \"wssb_Colon_test_ssim_rec\"])\n",
    "df[\"test_psnr_rec\"] = (df[\"wssb_Lung_test_psnr_rec\"] + df[\"wssb_Breast_test_psnr_rec\"] + df[\"wssb_Colon_test_psnr_rec\"])/3.0\n",
    "df = df.drop(columns=[\"wssb_Lung_test_psnr_rec\", \"wssb_Breast_test_psnr_rec\", \"wssb_Colon_test_psnr_rec\"])\n",
    "\n",
    "df[\"test_psnr_gt\"] = (df[\"wssb_Lung_test_psnr_gt\"] + df[\"wssb_Breast_test_psnr_gt\"] + df[\"wssb_Colon_test_psnr_gt\"])/3.0\n",
    "df = df.drop(columns=[\"wssb_Lung_test_psnr_gt\", \"wssb_Breast_test_psnr_gt\", \"wssb_Colon_test_psnr_gt\"])\n",
    "df[\"test_ssim_gt\"] = (df[\"wssb_Lung_test_ssim_gt\"] + df[\"wssb_Breast_test_ssim_gt\"] + df[\"wssb_Colon_test_ssim_gt\"])/3.0\n",
    "df = df.drop(columns=[\"wssb_Lung_test_ssim_gt\", \"wssb_Breast_test_ssim_gt\", \"wssb_Colon_test_ssim_gt\"])\n",
    "df = df.drop(columns=[c for c in df.columns if (\"gt_e\" in c) or (\"gt_h\" in c)])\n",
    "df = df.drop(columns=[\"wssb_Lung_test_mse_gt\", \"wssb_Breast_test_mse_gt\", \"wssb_Colon_test_mse_gt\"])\n",
    "\n",
    "df = highlight_columns(df, cols_idx=[1], mode=\"min\")\n",
    "df = highlight_columns(df, cols_idx=[2, 3, 4, 5], mode=\"max\")\n",
    "\n",
    "df = df.sort_values(by=[\"theta_val\"])\n",
    "df.set_index([\"theta_val\"], inplace=True)\n",
    "#df.columns = [\"Reconstruction MSE\", \"Reconstruction PSNR\", \"Reconstruction SSIM\", \"Ground-truth PSNR\", \"Ground-truth SSIM\"]\n",
    "#df.index.names = [\"$\\\\theta$\"]\n",
    "df_wssb = df\n",
    "df_wssb.transpose()"
   ]
  },
  {
   "cell_type": "code",
   "execution_count": null,
   "metadata": {},
   "outputs": [],
   "source": [
    "df = pd.concat([df_cam, df_wssb], axis=1)\n",
    "df = df.drop(columns=[c for c in df.columns if (\"psnr\" in c) or (\"ssim\" in c)])\n",
    "df.columns = [\"Camelyon Reconstruction MSE\", \"WSSB Reconstruction MSE\"]\n",
    "df = df.transpose()\n",
    "df"
   ]
  },
  {
   "cell_type": "code",
   "execution_count": null,
   "metadata": {},
   "outputs": [],
   "source": [
    "styler = df.style\n",
    "#styler = styler.hide(level=0, axis=0)  \n",
    "s = styler.to_latex(\n",
    "    column_format=f\"{ ''.join(['c' for i in range(len(df.columns)+2)]) }\", clines=\"skip-last;data\", \n",
    "    hrules = True, position_float=\"centering\", multirow_align=\"c\", sparse_index=\"True\", \n",
    "    caption=\"Results on Camelyon test dataset.\", label=\"tab:results_camelyon\",\n",
    "    )\n",
    "print(s)\n",
    "# Fix header"
   ]
  },
  {
   "cell_type": "markdown",
   "metadata": {},
   "source": [
    "## Per-stain per-organ metrics"
   ]
  },
  {
   "cell_type": "code",
   "execution_count": null,
   "metadata": {},
   "outputs": [],
   "source": [
    "HYPERPARAM_VAL = 1.0\n",
    "PRETRAINING_EPOCHS = 0"
   ]
  },
  {
   "cell_type": "code",
   "execution_count": null,
   "metadata": {},
   "outputs": [],
   "source": [
    "path = RESULTS_PATH + \"results_wssb.csv\"\n",
    "df = pd.read_csv(path)\n",
    "#theta_list = list(df[\"theta_val\"])\n",
    "#pe_list = list(df[\"pretraining_epochs\"])\n",
    "df = df.drop(columns=[c for c in df.columns if \"loss\" in c])\n",
    "df = df[df[\"pretraining_epochs\"] == PRETRAINING_EPOCHS] \n",
    "df = df[df[hyperparam_name] == HYPERPARAM_VAL]\n",
    "df = df[df[\"mnet_name\"] == \"resnet18ft\"]\n",
    "df = df[[c for c in df.columns if \"psnr_gt\" in c]]\n",
    "df[\"Name\"] = [f\"BCDnet p.e.={PRETRAINING_EPOCHS}, $\\\\theta={HYPERPARAM_VAL}$\"]\n",
    "df = df[[\"Name\"] + list(df.columns[:-1])]\n",
    "df = df.append({\"Name\" : \"BCDnet (old)\", \n",
    "    \"wssb_Lung_test_psnr_gt_h\" : 27.06, \"wssb_Lung_test_psnr_gt_e\" : 25.69, \n",
    "    \"wssb_Breast_test_psnr_gt_h\" : 21.81, \"wssb_Breast_test_psnr_gt_e\" : 24.53, \n",
    "    \"wssb_Colon_test_psnr_gt_h\" : 20.32, \"wssb_Colon_test_psnr_gt_e\" : 21.70}, ignore_index=True)\n",
    "df = df.append({\"Name\" : \"BKSVD\", \n",
    "    \"wssb_Lung_test_psnr_gt_h\" : 32.67, \"wssb_Lung_test_psnr_gt_e\" : 30.61, \n",
    "    \"wssb_Breast_test_psnr_gt_h\" : 32.20, \"wssb_Breast_test_psnr_gt_e\" : 29.43, \n",
    "    \"wssb_Colon_test_psnr_gt_h\" : 34.08, \"wssb_Colon_test_psnr_gt_e\" : 33.32}, ignore_index=True)\n",
    "\n",
    "df[\"wssb_mean_test_psnr_gt_h\"] = df[[c for c in df.columns if \"psnr_gt_h\" in c]].mean(axis=1)\n",
    "df[\"wssb_mean_test_psnr_gt_e\"] = df[[c for c in df.columns if \"psnr_gt_e\" in c]].mean(axis=1)\n",
    "df[\"wssb_mean_test_psnr_gt\"] = df[[\"wssb_mean_test_psnr_gt_h\", \"wssb_mean_test_psnr_gt_e\"]].mean(axis=1)\n",
    "df = highlight_columns(df, cols_idx=[1,2,3,4,5,6,7,8,9], mode=\"max\")\n",
    "df = df.transpose()\n",
    "df.columns = df.iloc[0]\n",
    "df = df.drop(df.index[0])\n",
    "df.reset_index(inplace=True)\n",
    "df.columns.name = None\n",
    "df = df.drop(columns=[\"index\"])\n",
    "df[\"Organ\"] = [\"Lung\", \"Lung\", \"Breast\", \"Breast\", \"Colon\", \"Colon\", \"Mean\", \"Mean\", \"Mean\"]\n",
    "df[\"Stain\"] = [\"H\", \"E\", \"H\", \"E\", \"H\", \"E\", \"H\", \"E\", \"Mean\"]\n",
    "\n",
    "df.set_index([\"Organ\", \"Stain\"], inplace=True)\n",
    "df"
   ]
  },
  {
   "cell_type": "code",
   "execution_count": null,
   "metadata": {},
   "outputs": [],
   "source": [
    "styler = df.style\n",
    "s = styler.to_latex(\n",
    "    column_format=f\"{ ''.join(['c' for i in range(len(df.columns)+2)]) }\", clines=\"skip-last;data\", \n",
    "    hrules = True, position_float=\"centering\", multirow_align=\"c\", sparse_index=\"True\", \n",
    "    caption=\"Ground truth PSNR on WSSB dataset.\", label=\"tab:gt_psnr_wssb\",\n",
    "    )\n",
    "print(s)"
   ]
  },
  {
   "cell_type": "code",
   "execution_count": null,
   "metadata": {},
   "outputs": [],
   "source": [
    "path = RESULTS_PATH + \"results_wssb.csv\"\n",
    "df = pd.read_csv(path)\n",
    "df = df.drop(columns=[c for c in df.columns if \"loss\" in c])\n",
    "df = df[df[\"pretraining_epochs\"] == PRETRAINING_EPOCHS] \n",
    "df = df[df[hyperparam_name] == HYPERPARAM_VAL]\n",
    "#df = df[df[\"pretraining_epochs\"] == 0] \n",
    "df = df[[c for c in df.columns if \"ssim_gt\" in c]]\n",
    "df[\"Name\"] = [f\"BCDnet p.e.={PRETRAINING_EPOCHS}, $\\\\theta={HYPERPARAM_VAL}$\"]\n",
    "df = df[[\"Name\"] + list(df.columns[:-1])]\n",
    "df = df.append({\"Name\" : \"BCDnet (old)\", \n",
    "    \"wssb_Lung_test_ssim_gt_h\" : 0.9518, \"wssb_Lung_test_ssim_gt_e\" : 0.8201, \n",
    "    \"wssb_Breast_test_ssim_gt_h\" : 0.8962, \"wssb_Breast_test_ssim_gt_e\" : 0.7321, \n",
    "    \"wssb_Colon_test_ssim_gt_h\" : 0.8969, \"wssb_Colon_test_ssim_gt_e\" : 0.8560}, ignore_index=True)\n",
    "df = df.append({\"Name\" : \"BKSVD\", \n",
    "    \"wssb_Lung_test_ssim_gt_h\" : 0.9764, \"wssb_Lung_test_ssim_gt_e\" : 0.9461, \n",
    "    \"wssb_Breast_test_ssim_gt_h\" : 0.9801, \"wssb_Breast_test_ssim_gt_e\" : 0.9632, \n",
    "    \"wssb_Colon_test_ssim_gt_h\" : 0.9826, \"wssb_Colon_test_ssim_gt_e\" : 0.9646}, ignore_index=True)\n",
    "df[\"wssb_mean_test_ssim_gt_h\"] = df[[c for c in df.columns if \"ssim_gt_h\" in c]].mean(axis=1)\n",
    "df[\"wssb_mean_test_ssim_gt_e\"] = df[[c for c in df.columns if \"ssim_gt_e\" in c]].mean(axis=1)\n",
    "df[\"wssb_mean_test_ssim_gt\"] = df[[\"wssb_mean_test_ssim_gt_h\", \"wssb_mean_test_ssim_gt_e\"]].mean(axis=1)\n",
    "df = highlight_columns(df, cols_idx=[1,2,3,4,5,6,7,8,9], mode=\"max\")\n",
    "df = df.transpose()\n",
    "df.columns = df.iloc[0]\n",
    "df = df.drop(df.index[0])\n",
    "df.reset_index(inplace=True)\n",
    "df.columns.name = None\n",
    "df = df.drop(columns=[\"index\"])\n",
    "df[\"Organ\"] = [\"Lung\", \"Lung\", \"Breast\", \"Breast\", \"Colon\", \"Colon\", \"Mean\", \"Mean\", \"Mean\"]\n",
    "df[\"Stain\"] = [\"H\", \"E\", \"H\", \"E\", \"H\", \"E\", \"H\", \"E\", \"Mean\"]\n",
    "\n",
    "df.set_index([\"Organ\", \"Stain\"], inplace=True)\n",
    "df"
   ]
  },
  {
   "cell_type": "code",
   "execution_count": null,
   "metadata": {},
   "outputs": [],
   "source": [
    "styler = df.style\n",
    "s = styler.to_latex(\n",
    "    column_format=f\"{ ''.join(['c' for i in range(len(df.columns)+2)]) }\", clines=\"skip-last;data\", \n",
    "    hrules = True, position_float=\"centering\", multirow_align=\"c\", sparse_index=\"True\", \n",
    "    caption=\"Ground truth SSIM on WSSB dataset.\", label=\"tab:gt_ssim_wssb\",\n",
    "    )\n",
    "print(s)"
   ]
  },
  {
   "cell_type": "code",
   "execution_count": null,
   "metadata": {},
   "outputs": [],
   "source": [
    "path = RESULTS_PATH + \"results_wssb.csv\"\n",
    "df = pd.read_csv(path)\n",
    "df = df.drop(columns=[c for c in df.columns if \"loss\" in c])\n",
    "#df[[c for c in df.columns if \"mse_rec\" in c]]\n",
    "df = df[df[\"pretraining_epochs\"] == PRETRAINING_EPOCHS] \n",
    "df = df[df[hyperparam_name] == HYPERPARAM_VAL]\n",
    "df = df[[c for c in df.columns if \"mse_rec\" in c]]\n",
    "df[\"wssb_mean_test_mse_rec\"] = df.mean(axis=1)\n",
    "df[\"Name\"] = [f\"BCDnet p.e.={PRETRAINING_EPOCHS}, $\\\\theta={HYPERPARAM_VAL}$\"]\n",
    "df = df[[\"Name\"] + list(df.columns[:-1])]\n",
    "df = df.append({\"Name\" : \"BCDnet (old)\", \"wssb_Lung_test_mse_rec\" : 0.0066, \"wssb_Breast_test_mse_rec\" : 0.0172, \"wssb_Colon_test_mse_rec\" : 0.0092, \"wssb_mean_test_mse_rec\" : 0.0110}, ignore_index=True)\n",
    "df = df.append({\"Name\" : \"BKSVD\", \"wssb_Lung_test_mse_rec\" : 0.0004, \"wssb_Breast_test_mse_rec\" : 0.0003, \"wssb_Colon_test_mse_rec\" : 0.0003, \"wssb_mean_test_mse_rec\" : 0.0003}, ignore_index=True)\n",
    "df = highlight_columns(df, cols_idx=[1,2,3,4], mode=\"min\")\n",
    "df = df.transpose()\n",
    "df.columns = df.iloc[0]\n",
    "df = df.drop(df.index[0])\n",
    "df.reset_index(inplace=True)\n",
    "df.columns.name = None\n",
    "df = df.drop(columns=[\"index\"])\n",
    "df[\"Organ\"] = [\"Lung\", \"Breast\", \"Colon\", \"Mean\"]\n",
    "df = df[[\"Organ\"] + list(df.columns[:-1])]\n",
    "df"
   ]
  },
  {
   "cell_type": "code",
   "execution_count": null,
   "metadata": {},
   "outputs": [],
   "source": [
    "styler = df.style\n",
    "styler = styler.hide(level=0, axis=0)  \n",
    "s = styler.to_latex(\n",
    "    column_format=f\"{ ''.join(['c' for i in range(len(df.columns))]) }\", clines=\"skip-last;data\", \n",
    "    hrules = True, position_float=\"centering\", multirow_align=\"c\", sparse_index=\"True\", \n",
    "    caption=\"Reconstruction MSE on WSSB dataset.\", label=\"tab:mse_rec_wssb\",\n",
    "    )\n",
    "print(s)"
   ]
  }
 ],
 "metadata": {
  "kernelspec": {
   "display_name": "Python 3.9.13 ('DVBCD')",
   "language": "python",
   "name": "python3"
  },
  "language_info": {
   "codemirror_mode": {
    "name": "ipython",
    "version": 3
   },
   "file_extension": ".py",
   "mimetype": "text/x-python",
   "name": "python",
   "nbconvert_exporter": "python",
   "pygments_lexer": "ipython3",
   "version": "3.9.13"
  },
  "orig_nbformat": 4,
  "vscode": {
   "interpreter": {
    "hash": "c6ad41a6645221cf1bf85d33afd32a0947fad2555ebbd1ea9580495d050a48a0"
   }
  }
 },
 "nbformat": 4,
 "nbformat_minor": 2
}
