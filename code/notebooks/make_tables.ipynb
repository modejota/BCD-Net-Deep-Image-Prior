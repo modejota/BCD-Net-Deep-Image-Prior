{
 "cells": [
  {
   "cell_type": "code",
   "execution_count": 1,
   "metadata": {},
   "outputs": [],
   "source": [
    "import sys\n",
    "# setting path\n",
    "sys.path.append('../')\n",
    "\n",
    "import pandas as pd"
   ]
  },
  {
   "cell_type": "code",
   "execution_count": 2,
   "metadata": {},
   "outputs": [],
   "source": [
    "MAIN_PATH = \"/work/work_fran/Deep_Var_BCD/\"\n",
    "RESULTS_PATH = MAIN_PATH + \"results/\""
   ]
  },
  {
   "cell_type": "markdown",
   "metadata": {},
   "source": [
    "# CAMELYON"
   ]
  },
  {
   "cell_type": "code",
   "execution_count": 3,
   "metadata": {},
   "outputs": [
    {
     "data": {
      "text/html": [
       "<div>\n",
       "<style scoped>\n",
       "    .dataframe tbody tr th:only-of-type {\n",
       "        vertical-align: middle;\n",
       "    }\n",
       "\n",
       "    .dataframe tbody tr th {\n",
       "        vertical-align: top;\n",
       "    }\n",
       "\n",
       "    .dataframe thead th {\n",
       "        text-align: right;\n",
       "    }\n",
       "</style>\n",
       "<table border=\"1\" class=\"dataframe\">\n",
       "  <thead>\n",
       "    <tr style=\"text-align: right;\">\n",
       "      <th></th>\n",
       "      <th>patch_size</th>\n",
       "      <th>pretraining_epochs</th>\n",
       "      <th>n_samples</th>\n",
       "      <th>lambda_val</th>\n",
       "      <th>camelyon_test_mse_rec</th>\n",
       "      <th>camelyon_test_psnr_rec</th>\n",
       "      <th>camelyon_test_ssim_rec</th>\n",
       "    </tr>\n",
       "  </thead>\n",
       "  <tbody>\n",
       "    <tr>\n",
       "      <th>0</th>\n",
       "      <td>224</td>\n",
       "      <td>5</td>\n",
       "      <td>60000</td>\n",
       "      <td>1.00</td>\n",
       "      <td>0.001068</td>\n",
       "      <td>28.439449</td>\n",
       "      <td>0.937027</td>\n",
       "    </tr>\n",
       "    <tr>\n",
       "      <th>1</th>\n",
       "      <td>224</td>\n",
       "      <td>5</td>\n",
       "      <td>60000</td>\n",
       "      <td>0.05</td>\n",
       "      <td>0.000833</td>\n",
       "      <td>27.074471</td>\n",
       "      <td>0.935076</td>\n",
       "    </tr>\n",
       "  </tbody>\n",
       "</table>\n",
       "</div>"
      ],
      "text/plain": [
       "   patch_size  pretraining_epochs  n_samples  lambda_val  \\\n",
       "0         224                   5      60000        1.00   \n",
       "1         224                   5      60000        0.05   \n",
       "\n",
       "   camelyon_test_mse_rec  camelyon_test_psnr_rec  camelyon_test_ssim_rec  \n",
       "0               0.001068               28.439449                0.937027  \n",
       "1               0.000833               27.074471                0.935076  "
      ]
     },
     "execution_count": 3,
     "metadata": {},
     "output_type": "execute_result"
    }
   ],
   "source": [
    "path = RESULTS_PATH + \"results_camelyon.csv\"\n",
    "df = pd.read_csv(path)\n",
    "df = df.drop(columns=[\"camelyon_test_loss\", \"camelyon_test_loss_mse\", \"camelyon_test_loss_kl\"])\n",
    "df"
   ]
  },
  {
   "cell_type": "markdown",
   "metadata": {},
   "source": [
    "# WSSB"
   ]
  },
  {
   "cell_type": "code",
   "execution_count": 4,
   "metadata": {},
   "outputs": [
    {
     "data": {
      "text/html": [
       "<div>\n",
       "<style scoped>\n",
       "    .dataframe tbody tr th:only-of-type {\n",
       "        vertical-align: middle;\n",
       "    }\n",
       "\n",
       "    .dataframe tbody tr th {\n",
       "        vertical-align: top;\n",
       "    }\n",
       "\n",
       "    .dataframe thead th {\n",
       "        text-align: right;\n",
       "    }\n",
       "</style>\n",
       "<table border=\"1\" class=\"dataframe\">\n",
       "  <thead>\n",
       "    <tr style=\"text-align: right;\">\n",
       "      <th></th>\n",
       "      <th>patch_size</th>\n",
       "      <th>pretraining_epochs</th>\n",
       "      <th>n_samples</th>\n",
       "      <th>lambda_val</th>\n",
       "      <th>wssb_Lung_test_psnr_rec</th>\n",
       "      <th>wssb_Lung_test_ssim_rec</th>\n",
       "      <th>wssb_Lung_test_psnr_gt_h</th>\n",
       "      <th>wssb_Lung_test_psnr_gt_e</th>\n",
       "      <th>wssb_Lung_test_ssim_gt_h</th>\n",
       "      <th>wssb_Lung_test_ssim_gt_e</th>\n",
       "      <th>...</th>\n",
       "      <th>wssb_Breast_test_psnr_gt_h</th>\n",
       "      <th>wssb_Breast_test_psnr_gt_e</th>\n",
       "      <th>wssb_Breast_test_ssim_gt_h</th>\n",
       "      <th>wssb_Breast_test_ssim_gt_e</th>\n",
       "      <th>wssb_Colon_test_psnr_rec</th>\n",
       "      <th>wssb_Colon_test_ssim_rec</th>\n",
       "      <th>wssb_Colon_test_psnr_gt_h</th>\n",
       "      <th>wssb_Colon_test_psnr_gt_e</th>\n",
       "      <th>wssb_Colon_test_ssim_gt_h</th>\n",
       "      <th>wssb_Colon_test_ssim_gt_e</th>\n",
       "    </tr>\n",
       "  </thead>\n",
       "  <tbody>\n",
       "    <tr>\n",
       "      <th>0</th>\n",
       "      <td>224</td>\n",
       "      <td>5</td>\n",
       "      <td>60000</td>\n",
       "      <td>1.00</td>\n",
       "      <td>39.839233</td>\n",
       "      <td>0.970790</td>\n",
       "      <td>-5.078928</td>\n",
       "      <td>-3.867191</td>\n",
       "      <td>0.207030</td>\n",
       "      <td>0.329789</td>\n",
       "      <td>...</td>\n",
       "      <td>-5.078928</td>\n",
       "      <td>-3.867191</td>\n",
       "      <td>0.207030</td>\n",
       "      <td>0.329789</td>\n",
       "      <td>39.839233</td>\n",
       "      <td>0.970790</td>\n",
       "      <td>-5.078928</td>\n",
       "      <td>-3.867191</td>\n",
       "      <td>0.207030</td>\n",
       "      <td>0.329789</td>\n",
       "    </tr>\n",
       "    <tr>\n",
       "      <th>1</th>\n",
       "      <td>224</td>\n",
       "      <td>5</td>\n",
       "      <td>60000</td>\n",
       "      <td>0.05</td>\n",
       "      <td>40.038291</td>\n",
       "      <td>0.972735</td>\n",
       "      <td>-4.899961</td>\n",
       "      <td>-3.975108</td>\n",
       "      <td>0.206363</td>\n",
       "      <td>0.330079</td>\n",
       "      <td>...</td>\n",
       "      <td>-4.899961</td>\n",
       "      <td>-3.975107</td>\n",
       "      <td>0.206363</td>\n",
       "      <td>0.330079</td>\n",
       "      <td>40.038291</td>\n",
       "      <td>0.972735</td>\n",
       "      <td>-4.899961</td>\n",
       "      <td>-3.975107</td>\n",
       "      <td>0.206363</td>\n",
       "      <td>0.330079</td>\n",
       "    </tr>\n",
       "  </tbody>\n",
       "</table>\n",
       "<p>2 rows × 22 columns</p>\n",
       "</div>"
      ],
      "text/plain": [
       "   patch_size  pretraining_epochs  n_samples  lambda_val  \\\n",
       "0         224                   5      60000        1.00   \n",
       "1         224                   5      60000        0.05   \n",
       "\n",
       "   wssb_Lung_test_psnr_rec  wssb_Lung_test_ssim_rec  wssb_Lung_test_psnr_gt_h  \\\n",
       "0                39.839233                 0.970790                 -5.078928   \n",
       "1                40.038291                 0.972735                 -4.899961   \n",
       "\n",
       "   wssb_Lung_test_psnr_gt_e  wssb_Lung_test_ssim_gt_h  \\\n",
       "0                 -3.867191                  0.207030   \n",
       "1                 -3.975108                  0.206363   \n",
       "\n",
       "   wssb_Lung_test_ssim_gt_e  ...  wssb_Breast_test_psnr_gt_h  \\\n",
       "0                  0.329789  ...                   -5.078928   \n",
       "1                  0.330079  ...                   -4.899961   \n",
       "\n",
       "   wssb_Breast_test_psnr_gt_e  wssb_Breast_test_ssim_gt_h  \\\n",
       "0                   -3.867191                    0.207030   \n",
       "1                   -3.975107                    0.206363   \n",
       "\n",
       "   wssb_Breast_test_ssim_gt_e  wssb_Colon_test_psnr_rec  \\\n",
       "0                    0.329789                 39.839233   \n",
       "1                    0.330079                 40.038291   \n",
       "\n",
       "   wssb_Colon_test_ssim_rec  wssb_Colon_test_psnr_gt_h  \\\n",
       "0                  0.970790                  -5.078928   \n",
       "1                  0.972735                  -4.899961   \n",
       "\n",
       "   wssb_Colon_test_psnr_gt_e  wssb_Colon_test_ssim_gt_h  \\\n",
       "0                  -3.867191                   0.207030   \n",
       "1                  -3.975107                   0.206363   \n",
       "\n",
       "   wssb_Colon_test_ssim_gt_e  \n",
       "0                   0.329789  \n",
       "1                   0.330079  \n",
       "\n",
       "[2 rows x 22 columns]"
      ]
     },
     "execution_count": 4,
     "metadata": {},
     "output_type": "execute_result"
    }
   ],
   "source": [
    "path = RESULTS_PATH + \"results_wssb.csv\"\n",
    "df = pd.read_csv(path)\n",
    "df = df.drop(columns=[c for c in df.columns if \"loss\" in c])\n",
    "df"
   ]
  },
  {
   "cell_type": "markdown",
   "metadata": {},
   "source": [
    "## Reconstruction MSE"
   ]
  },
  {
   "cell_type": "code",
   "execution_count": null,
   "metadata": {},
   "outputs": [],
   "source": [
    "df[[\"patch_size\", \"pretraining_epochs\", \"n_samples\", \"lambda_val\"] + [c for c in df.columns if \"wssb\" in c]]"
   ]
  }
 ],
 "metadata": {
  "kernelspec": {
   "display_name": "Python 3.9.13 ('DVBCD')",
   "language": "python",
   "name": "python3"
  },
  "language_info": {
   "codemirror_mode": {
    "name": "ipython",
    "version": 3
   },
   "file_extension": ".py",
   "mimetype": "text/x-python",
   "name": "python",
   "nbconvert_exporter": "python",
   "pygments_lexer": "ipython3",
   "version": "3.9.13"
  },
  "orig_nbformat": 4,
  "vscode": {
   "interpreter": {
    "hash": "c6ad41a6645221cf1bf85d33afd32a0947fad2555ebbd1ea9580495d050a48a0"
   }
  }
 },
 "nbformat": 4,
 "nbformat_minor": 2
}
