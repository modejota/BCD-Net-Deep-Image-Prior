{
 "cells": [
  {
   "cell_type": "code",
   "execution_count": null,
   "metadata": {},
   "outputs": [],
   "source": [
    "import sys\n",
    "# setting path\n",
    "sys.path.append('../')\n",
    "\n",
    "import pandas as pd"
   ]
  },
  {
   "cell_type": "code",
   "execution_count": null,
   "metadata": {},
   "outputs": [],
   "source": [
    "MAIN_PATH = \"/work/work_fran/Deep_Var_BCD/\"\n",
    "RESULTS_PATH = MAIN_PATH + \"results/\""
   ]
  },
  {
   "cell_type": "markdown",
   "metadata": {},
   "source": [
    "# CAMELYON"
   ]
  },
  {
   "cell_type": "code",
   "execution_count": null,
   "metadata": {},
   "outputs": [],
   "source": [
    "path = RESULTS_PATH + \"results_camelyon.csv\"\n",
    "df = pd.read_csv(path)\n",
    "df = df.drop(columns=[\"camelyon_test_loss\", \"camelyon_test_loss_mse\", \"camelyon_test_loss_kl\"])\n",
    "\n",
    "df[\"Version\"] = [\"New\" for i in range(len(df))]\n",
    "sh_row = {\"Version\" : \"Old\", \"patch_size\" : 64, \"pretraining_epochs\" : 1, \"n_samples\" : \"?\", \"lambda_val\" : \"$\\\\theta=0.8$\", \"sigmaRui_sq\" : \"0.05\", \"camelyon_test_mse_rec\" : \"0.0712\", \"camelyon_test_ssim_rec\" : \"?\", \"camelyon_test_ssim_rec\" : \"?\"}\n",
    "df = df.append(sh_row, ignore_index=True)\n",
    "df.columns = [\"Patch size\", \"Pretraining epochs\", \"Num. samples\", \"$\\lambda$\", \"$\\sigma_{Rui}^2$\", \"Reconstruction MSE\", \"Reconstruction PSNR\", \"Reconstruction SSIM\", \"Version\"]\n",
    "df = df[[\"Version\"] + list(df.columns[:-1])]\n",
    "df"
   ]
  },
  {
   "cell_type": "code",
   "execution_count": null,
   "metadata": {},
   "outputs": [],
   "source": [
    "styler = df.style\n",
    "styler = styler.hide(level=0, axis=0)  \n",
    "s = styler.to_latex(\n",
    "    column_format=f\"{ ''.join(['c' for i in range(len(df.columns))]) }\", clines=\"skip-last;data\", \n",
    "    hrules = True, position_float=\"centering\", multirow_align=\"c\", sparse_index=\"True\", \n",
    "    caption=\"Results on Camelyon test dataset.\", label=\"tab:results_camelyon\",\n",
    "    )\n",
    "print(s)\n",
    "# Fix header"
   ]
  },
  {
   "cell_type": "markdown",
   "metadata": {},
   "source": [
    "# WSSB"
   ]
  },
  {
   "cell_type": "code",
   "execution_count": null,
   "metadata": {},
   "outputs": [],
   "source": [
    "path = RESULTS_PATH + \"results_wssb.csv\"\n",
    "df = pd.read_csv(path)\n",
    "df = df.drop(columns=[c for c in df.columns if \"loss\" in c])\n",
    "#df[[c for c in df.columns if \"mse_rec\" in c]]\n",
    "\n",
    "df = df[df[\"pretraining_epochs\"] == 1] \n",
    "df = df[[c for c in df.columns if \"mse_rec\" in c]]\n",
    "df[\"wssb_mean_test_mse_rec\"] = df.mean(axis=1)\n",
    "df[\"Name\"] = \"BCDnet (new)\"\n",
    "df = df[[\"Name\"] + list(df.columns[:-1])]\n",
    "\n",
    "df = df.append({\"Name\" : \"BCDnet (old)\", \"wssb_Lung_test_mse_rec\" : 0.0066, \"wssb_Breast_test_mse_rec\" : 0.0172, \"wssb_Colon_test_mse_rec\" : 0.0092, \"wssb_mean_test_mse_rec\" : 0.0110}, ignore_index=True)\n",
    "df = df.append({\"Name\" : \"BKSVD\", \"wssb_Lung_test_mse_rec\" : 0.0004, \"wssb_Breast_test_mse_rec\" : 0.0003, \"wssb_Colon_test_mse_rec\" : 0.0003, \"wssb_mean_test_mse_rec\" : 0.0003}, ignore_index=True)"
   ]
  },
  {
   "cell_type": "code",
   "execution_count": null,
   "metadata": {},
   "outputs": [],
   "source": [
    "df = df.transpose()\n",
    "df.columns = df.iloc[0]\n",
    "df = df.drop(df.index[0])\n",
    "df.reset_index(inplace=True)\n",
    "df.columns.name = None\n",
    "df = df.drop(columns=[\"index\"])\n",
    "df[\"Organ\"] = [\"Lung\", \"Breast\", \"Colon\", \"Mean\"]\n",
    "df = df[[\"Organ\"] + list(df.columns[:-1])]\n",
    "df"
   ]
  },
  {
   "cell_type": "code",
   "execution_count": null,
   "metadata": {},
   "outputs": [],
   "source": [
    "styler = df.style\n",
    "styler = styler.hide(level=0, axis=0)  \n",
    "s = styler.to_latex(\n",
    "    column_format=f\"{ ''.join(['c' for i in range(len(df.columns))]) }\", clines=\"skip-last;data\", \n",
    "    hrules = True, position_float=\"centering\", multirow_align=\"c\", sparse_index=\"True\", \n",
    "    caption=\"Reconstruction MSE on WSSB dataset.\", label=\"tab:mse_rec_wssb\",\n",
    "    )\n",
    "print(s)"
   ]
  },
  {
   "cell_type": "markdown",
   "metadata": {},
   "source": [
    "## Stain metrics"
   ]
  },
  {
   "cell_type": "code",
   "execution_count": null,
   "metadata": {},
   "outputs": [],
   "source": [
    "path = RESULTS_PATH + \"results_wssb.csv\"\n",
    "df = pd.read_csv(path)\n",
    "df = df.drop(columns=[c for c in df.columns if \"loss\" in c])\n",
    "df = df[df[\"pretraining_epochs\"] == 1] \n",
    "df = df[[c for c in df.columns if \"psnr_gt\" in c]]\n",
    "df[\"Name\"] = [\"BCDnet (new)\" for i in range(len(df))]\n",
    "df = df[[\"Name\"] + list(df.columns[:-1])]\n",
    "df = df.append({\"Name\" : \"BCDnet (old)\", \n",
    "    \"wssb_Lung_test_psnr_gt_h\" : 27.06, \"wssb_Lung_test_psnr_gt_e\" : 25.69, \n",
    "    \"wssb_Breast_test_psnr_gt_h\" : 21.81, \"wssb_Breast_test_psnr_gt_e\" : 24.53, \n",
    "    \"wssb_Colon_test_psnr_gt_h\" : 20.32, \"wssb_Colon_test_psnr_gt_e\" : 21.70}, ignore_index=True)\n",
    "df = df.append({\"Name\" : \"BKSVD\", \n",
    "    \"wssb_Lung_test_psnr_gt_h\" : 32.67, \"wssb_Lung_test_psnr_gt_e\" : 30.61, \n",
    "    \"wssb_Breast_test_psnr_gt_h\" : 32.20, \"wssb_Breast_test_psnr_gt_e\" : 29.43, \n",
    "    \"wssb_Colon_test_psnr_gt_h\" : 34.08, \"wssb_Colon_test_psnr_gt_e\" : 33.32}, ignore_index=True)\n",
    "\n",
    "df[\"wssb_mean_test_psnr_gt_h\"] = df[[c for c in df.columns if \"h\" in c]].mean(axis=1)\n",
    "df[\"wssb_mean_test_psnr_gt_e\"] = df[[c for c in df.columns if \"e\" in c]].mean(axis=1)\n",
    "df[\"wssb_mean_test_psnr_gt\"] = df[[\"wssb_mean_test_psnr_gt_h\", \"wssb_mean_test_psnr_gt_e\"]].mean(axis=1)\n",
    "\n",
    "df = df.transpose()\n",
    "df.columns = df.iloc[0]\n",
    "df = df.drop(df.index[0])\n",
    "df.reset_index(inplace=True)\n",
    "df.columns.name = None\n",
    "df = df.drop(columns=[\"index\"])\n",
    "df[\"Organ\"] = [\"Lung\", \"Lung\", \"Breast\", \"Breast\", \"Colon\", \"Colon\", \"Mean\", \"Mean\", \"Mean\"]\n",
    "df[\"Stain\"] = [\"H\", \"E\", \"H\", \"E\", \"H\", \"E\", \"H\", \"E\", \"Mean\"]\n",
    "\n",
    "df.set_index([\"Organ\", \"Stain\"], inplace=True)\n",
    "df"
   ]
  },
  {
   "cell_type": "code",
   "execution_count": null,
   "metadata": {},
   "outputs": [],
   "source": [
    "styler = df.style\n",
    "s = styler.to_latex(\n",
    "    column_format=f\"{ ''.join(['c' for i in range(len(df.columns)+2)]) }\", clines=\"skip-last;data\", \n",
    "    hrules = True, position_float=\"centering\", multirow_align=\"c\", sparse_index=\"True\", \n",
    "    caption=\"Ground truth PSNR on WSSB dataset.\", label=\"tab:gt_psnr_wssb\",\n",
    "    )\n",
    "print(s)"
   ]
  },
  {
   "cell_type": "code",
   "execution_count": null,
   "metadata": {},
   "outputs": [],
   "source": [
    "path = RESULTS_PATH + \"results_wssb.csv\"\n",
    "df = pd.read_csv(path)\n",
    "df = df.drop(columns=[c for c in df.columns if \"loss\" in c])\n",
    "df = df[df[\"pretraining_epochs\"] == 1] \n",
    "df = df[[c for c in df.columns if \"ssim_gt\" in c]]\n",
    "df[\"Name\"] = [\"BCDnet (new)\" for i in range(len(df))]\n",
    "df = df[[\"Name\"] + list(df.columns[:-1])]\n",
    "df = df.append({\"Name\" : \"BCDnet (old)\", \n",
    "    \"wssb_Lung_test_ssim_gt_h\" : 0.9518, \"wssb_Lung_test_ssim_gt_e\" : 0.8201, \n",
    "    \"wssb_Breast_test_ssim_gt_h\" : 0.8962, \"wssb_Breast_test_ssim_gt_e\" : 0.7321, \n",
    "    \"wssb_Colon_test_ssim_gt_h\" : 0.8969, \"wssb_Colon_test_ssim_gt_e\" : 0.8560}, ignore_index=True)\n",
    "df = df.append({\"Name\" : \"BKSVD\", \n",
    "    \"wssb_Lung_test_ssim_gt_h\" : 0.9764, \"wssb_Lung_test_ssim_gt_e\" : 0.9461, \n",
    "    \"wssb_Breast_test_ssim_gt_h\" : 0.9801, \"wssb_Breast_test_ssim_gt_e\" : 0.9632, \n",
    "    \"wssb_Colon_test_ssim_gt_h\" : 0.9826, \"wssb_Colon_test_ssim_gt_e\" : 0.9646}, ignore_index=True)\n",
    "df[\"wssb_mean_test_ssim_gt_h\"] = df[[c for c in df.columns if \"h\" in c]].mean(axis=1)\n",
    "df[\"wssb_mean_test_ssim_gt_e\"] = df[[c for c in df.columns if \"e\" in c]].mean(axis=1)\n",
    "df[\"wssb_mean_test_ssim_gt\"] = df[[\"wssb_mean_test_ssim_gt_h\", \"wssb_mean_test_ssim_gt_e\"]].mean(axis=1)\n",
    "\n",
    "df = df.transpose()\n",
    "df.columns = df.iloc[0]\n",
    "df = df.drop(df.index[0])\n",
    "df.reset_index(inplace=True)\n",
    "df.columns.name = None\n",
    "df = df.drop(columns=[\"index\"])\n",
    "df[\"Organ\"] = [\"Lung\", \"Lung\", \"Breast\", \"Breast\", \"Colon\", \"Colon\", \"Mean\", \"Mean\", \"Mean\"]\n",
    "df[\"Stain\"] = [\"H\", \"E\", \"H\", \"E\", \"H\", \"E\", \"H\", \"E\", \"Mean\"]\n",
    "\n",
    "df.set_index([\"Organ\", \"Stain\"], inplace=True)\n",
    "df"
   ]
  },
  {
   "cell_type": "code",
   "execution_count": null,
   "metadata": {},
   "outputs": [],
   "source": [
    "styler = df.style\n",
    "s = styler.to_latex(\n",
    "    column_format=f\"{ ''.join(['c' for i in range(len(df.columns)+2)]) }\", clines=\"skip-last;data\", \n",
    "    hrules = True, position_float=\"centering\", multirow_align=\"c\", sparse_index=\"True\", \n",
    "    caption=\"Ground truth SSIM on WSSB dataset.\", label=\"tab:gt_ssim_wssb\",\n",
    "    )\n",
    "print(s)"
   ]
  }
 ],
 "metadata": {
  "kernelspec": {
   "display_name": "Python 3.9.13 ('DVBCD')",
   "language": "python",
   "name": "python3"
  },
  "language_info": {
   "codemirror_mode": {
    "name": "ipython",
    "version": 3
   },
   "file_extension": ".py",
   "mimetype": "text/x-python",
   "name": "python",
   "nbconvert_exporter": "python",
   "pygments_lexer": "ipython3",
   "version": "3.9.13"
  },
  "orig_nbformat": 4,
  "vscode": {
   "interpreter": {
    "hash": "c6ad41a6645221cf1bf85d33afd32a0947fad2555ebbd1ea9580495d050a48a0"
   }
  }
 },
 "nbformat": 4,
 "nbformat_minor": 2
}
