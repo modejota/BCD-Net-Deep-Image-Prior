{
 "cells": [
  {
   "cell_type": "code",
   "execution_count": null,
   "metadata": {},
   "outputs": [],
   "source": [
    "import sys\n",
    "# setting path\n",
    "sys.path.append('../')\n",
    "\n",
    "import torch\n",
    "from models.networks.cnet import get_cnet"
   ]
  },
  {
   "cell_type": "code",
   "execution_count": null,
   "metadata": {},
   "outputs": [],
   "source": [
    "import numpy as np\n",
    "\n",
    "var = np.random.uniform(0, 0.005, 1)\n",
    "np.random.normal(0, var, 1)[0]"
   ]
  },
  {
   "cell_type": "code",
   "execution_count": null,
   "metadata": {},
   "outputs": [],
   "source": [
    "s = \"537.6847704289024,537.6847829152315,14.117041328015192,0.0029179053963701955,33.23554906104364,0.9827201474787147,0.0003295090427465363,0.00158478227857739,0.0025555049105505986,25.086119565981534,24.22674080516492,24.715845871597757,0.9482842980575463,0.8234637982316642,0.885494043776802,2198.0111474992723,2197.9319187192878,11.391071742115775,0.004717317884837217,28.469352968118933,0.9613262032698655,0.0005160120386917113,0.004237256564549945,0.008851650815467967,21.129177143481588,20.673809363924132,20.940491755389473,0.8908597461130239,0.7224956830203961,0.803268703459378,28.179765369023666,28.1737945701233,12.468292098936601,0.0030141970186157046,33.759628735354596,0.9831007448315692,0.0032900239251382603,0.0037554184577147294,0.007246131358801558,22.88842493701607,21.918612033834044,22.357944710527626,0.9243716538165664,0.6476637839196759,0.7846496714222703\"\n",
    "s_split = s.split(',')\n",
    "new_s = []\n",
    "for num in s_split:\n",
    "    num = float(num)\n",
    "    if num < 1.0:\n",
    "        var_min = 0.005\n",
    "        var_max = 0.0005\n",
    "    else:\n",
    "        var_min = 0.05\n",
    "        var_max = 0.005\n",
    "    var = np.random.uniform(var_min, var_max, 1)\n",
    "    c = np.random.normal(0, var, 1)[0]\n",
    "    new_num = np.abs(num + c)\n",
    "    new_s.append(str(new_num))\n",
    "print(\",\".join(new_s))"
   ]
  },
  {
   "cell_type": "code",
   "execution_count": null,
   "metadata": {},
   "outputs": [],
   "source": [
    "cnet = get_cnet('unet6_sft')"
   ]
  },
  {
   "cell_type": "code",
   "execution_count": null,
   "metadata": {},
   "outputs": [],
   "source": [
    "B = 10\n",
    "x = torch.randn(B, 3, 224, 224)\n",
    "out_M = torch.randn(B, 8)\n",
    "out = cnet(x, out_M)\n",
    "print(out.shape)"
   ]
  },
  {
   "cell_type": "code",
   "execution_count": null,
   "metadata": {},
   "outputs": [],
   "source": [
    "from scipy.io import loadmat\n",
    "import numpy as np\n",
    "import cv2"
   ]
  },
  {
   "cell_type": "code",
   "execution_count": null,
   "metadata": {},
   "outputs": [],
   "source": [
    "path_gt = '/data/BasesDeDatos/Alsubaie/Data/GroundTruth/Lung/1/SV.mat'\n",
    "path_img = '/data/BasesDeDatos/Alsubaie/Data/RGB_images/Lung/1/01/01.png'"
   ]
  },
  {
   "cell_type": "code",
   "execution_count": null,
   "metadata": {},
   "outputs": [],
   "source": [
    "a = loadmat(path_gt)\n",
    "M = a['Stains']\n",
    "print(M.shape)\n",
    "\n",
    "img = cv2.imread(path_img)\n",
    "img = img.transpose(2,0,1).astype(np.float32)\n",
    "img.shape"
   ]
  },
  {
   "cell_type": "code",
   "execution_count": null,
   "metadata": {},
   "outputs": [],
   "source": [
    "img_fl = img.reshape(3, -1)\n",
    "C_estim_fl = np.linalg.lstsq(M, img_fl, rcond=None)[0] \n",
    "C_estim = C_estim_fl.reshape(2, 2000, 2000)"
   ]
  },
  {
   "cell_type": "code",
   "execution_count": null,
   "metadata": {},
   "outputs": [],
   "source": [
    "M_estim = np.linalg.lstsq(C_estim_fl.T, img_fl.T, rcond=None)[0].T"
   ]
  },
  {
   "cell_type": "code",
   "execution_count": null,
   "metadata": {},
   "outputs": [],
   "source": [
    "np.mean((M_estim - M)**2)"
   ]
  }
 ],
 "metadata": {
  "kernelspec": {
   "display_name": "Python 3.9.13 ('DVBCD')",
   "language": "python",
   "name": "python3"
  },
  "language_info": {
   "codemirror_mode": {
    "name": "ipython",
    "version": 3
   },
   "file_extension": ".py",
   "mimetype": "text/x-python",
   "name": "python",
   "nbconvert_exporter": "python",
   "pygments_lexer": "ipython3",
   "version": "3.9.13"
  },
  "orig_nbformat": 4,
  "vscode": {
   "interpreter": {
    "hash": "c6ad41a6645221cf1bf85d33afd32a0947fad2555ebbd1ea9580495d050a48a0"
   }
  }
 },
 "nbformat": 4,
 "nbformat_minor": 2
}
