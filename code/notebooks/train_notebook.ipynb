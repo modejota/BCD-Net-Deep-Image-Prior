{
 "cells": [
  {
   "cell_type": "code",
   "execution_count": null,
   "metadata": {},
   "outputs": [],
   "source": [
    "import os\n",
    "import torch\n",
    "\n",
    "import matplotlib.pyplot as plt\n",
    "import numpy as np\n",
    "\n",
    "from utils.callbacks import EarlyStopping, History\n",
    "\n",
    "from utils.utils_data import get_train_dataloaders, get_test_dataloaders\n",
    "from utils.utils_BCD import od2rgb_np, undo_normalization\n",
    "from models.DVBCDModel import DVBCDModel\n",
    "\n",
    "print(torch.__version__)\n",
    "torch.backends.cudnn.enabled = True\n",
    "torch.backends.cudnn.benchmark = True\n",
    "torch.autograd.set_detect_anomaly(True)\n",
    "\n",
    "USE_GPU = True\n",
    "os.environ[\"CUDA_DEVICE_ORDER\"]=\"PCI_BUS_ID\"\n",
    "if USE_GPU and torch.cuda.is_available():\n",
    "    DEVICE = torch.device('cuda:3')\n",
    "else:\n",
    "    DEVICE = torch.device('cpu')\n",
    "print('using device:', DEVICE)"
   ]
  },
  {
   "cell_type": "code",
   "execution_count": null,
   "metadata": {},
   "outputs": [],
   "source": [
    "#data_path = '/data/BasesDeDatos/Camelyon/Camelyon17/training/Toy/'\n",
    "camelyon_data_path = '/data/BasesDeDatos/Camelyon/Camelyon17/training/patches_224/'\n",
    "wssb_data_path = '/data/BasesDeDatos/Alsubaie/Data/'\n",
    "\n",
    "#dataloaders = get_dataloaders(args.data_path, args.patch_size, args.batch_size, args.num_workers, val_prop=0.3)\n",
    "train_dataloader, val_dataloader = get_train_dataloaders(camelyon_data_path, 16, 32, 64, val_prop=0.2, n_samples=10000)\n",
    "\n",
    "print(len(train_dataloader), len(val_dataloader))"
   ]
  },
  {
   "cell_type": "code",
   "execution_count": null,
   "metadata": {},
   "outputs": [],
   "source": [
    "model = DVBCDModel(\n",
    "                cnet_name=\"unet_6\", mnet_name=\"resnet_18_in\", \n",
    "                sigmaRui_sq=torch.tensor([1e-03, 1e-03]), lambda_val=0.005, lr_cnet=1e-4, \n",
    "                lr_mnet=1e-4, lr_decay=0.1, clip_grad_cnet=10e5, clip_grad_mnet=10e5,\n",
    "                device=DEVICE\n",
    "                )\n",
    "#model.set_callbacks([EarlyStopping(model, \"val_loss_mse\", patience=2), History()])\n",
    "model.fit(2, train_dataloader, val_dataloader, pretraining=True)\n",
    "model.fit(10, train_dataloader, val_dataloader, pretraining=False)\n",
    "#model.save(\"./weights/DVBCDModel_prueba.pth\")\n",
    "#model.load(\"./weights/DVBCDModel_prueba.pth\")\n",
    "#model.to(DEVICE)"
   ]
  },
  {
   "cell_type": "code",
   "execution_count": null,
   "metadata": {},
   "outputs": [],
   "source": [
    "img_prueba = train_dataloader.dataset[2][0].unsqueeze(0).to(DEVICE)\n",
    "img_od = train_dataloader.dataset[2][1].unsqueeze(0).to(DEVICE)\n",
    "mean, var, cnet, y_rec = model.forward(img_prueba)\n",
    "cnet_h = cnet[0,0,:,:].cpu().detach().numpy()\n",
    "cnet_e = cnet[0,1,:,:].cpu().detach().numpy()\n",
    "plt.subplot(121)\n",
    "plt.imshow(cnet_h)\n",
    "plt.subplot(122)\n",
    "plt.imshow(cnet_e)\n",
    "plt.show()"
   ]
  },
  {
   "cell_type": "code",
   "execution_count": null,
   "metadata": {},
   "outputs": [],
   "source": [
    "b = y_rec[0,:,:,:].cpu().detach().numpy().transpose(1,2,0)\n",
    "b = undo_normalization(b, np.log(256.0), 0)\n",
    "b = od2rgb_np(b).astype(np.uint8)"
   ]
  },
  {
   "cell_type": "code",
   "execution_count": null,
   "metadata": {},
   "outputs": [],
   "source": [
    "c = img_od[0,:,:,:].cpu().detach().numpy().transpose(1,2,0)\n",
    "c = undo_normalization(c, np.log(256.0), 0)\n",
    "c = od2rgb_np(c).astype(np.uint8)"
   ]
  },
  {
   "cell_type": "code",
   "execution_count": null,
   "metadata": {},
   "outputs": [],
   "source": [
    "plt.subplot(121)\n",
    "plt.imshow(c)\n",
    "plt.subplot(122)\n",
    "plt.imshow(b)\n",
    "plt.show()"
   ]
  }
 ],
 "metadata": {
  "kernelspec": {
   "display_name": "Python 3.9.13 ('DVBCD')",
   "language": "python",
   "name": "python3"
  },
  "language_info": {
   "codemirror_mode": {
    "name": "ipython",
    "version": 3
   },
   "file_extension": ".py",
   "mimetype": "text/x-python",
   "name": "python",
   "nbconvert_exporter": "python",
   "pygments_lexer": "ipython3",
   "version": "3.9.13"
  },
  "orig_nbformat": 4,
  "vscode": {
   "interpreter": {
    "hash": "c6ad41a6645221cf1bf85d33afd32a0947fad2555ebbd1ea9580495d050a48a0"
   }
  }
 },
 "nbformat": 4,
 "nbformat_minor": 2
}
