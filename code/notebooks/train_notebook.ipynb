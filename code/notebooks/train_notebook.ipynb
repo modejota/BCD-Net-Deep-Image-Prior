{
 "cells": [
  {
   "cell_type": "code",
   "execution_count": null,
   "metadata": {},
   "outputs": [],
   "source": [
    "import sys\n",
    "# setting path\n",
    "sys.path.append('../')\n",
    "\n",
    "import os\n",
    "import torch\n",
    "\n",
    "import matplotlib.pyplot as plt\n",
    "import numpy as np\n",
    "\n",
    "from utils.callbacks import EarlyStopping, History\n",
    "\n",
    "from utils.utils_data import get_train_dataloaders, get_wssb_dataloader\n",
    "from utils.utils_BCD import od2rgb_np, undo_normalization\n",
    "from models.DVBCDModel import DVBCDModel\n",
    "\n",
    "print(torch.__version__)\n",
    "torch.backends.cudnn.enabled = True\n",
    "torch.backends.cudnn.benchmark = True\n",
    "torch.autograd.set_detect_anomaly(True)\n",
    "\n",
    "USE_GPU = True\n",
    "os.environ[\"CUDA_DEVICE_ORDER\"]=\"PCI_BUS_ID\"\n",
    "os.environ[\"CUDA_VISIBLE_DEVICES\"]=\"0,1,2\"\n",
    "if USE_GPU and torch.cuda.is_available():\n",
    "    DEVICE = torch.device('cuda')\n",
    "else:\n",
    "    DEVICE = torch.device('cpu')\n",
    "print('using device:', DEVICE)"
   ]
  },
  {
   "cell_type": "code",
   "execution_count": null,
   "metadata": {},
   "outputs": [],
   "source": [
    "def psnr(A, B, max=None):\n",
    "    \"\"\"\n",
    "    input: \n",
    "        A: tensor of shape (N, C, H, W)\n",
    "        B: tensor of shape (N, C, H, W)\n",
    "    return:\n",
    "        psnr: tensor of shape (N, )\n",
    "    \"\"\"\n",
    "    if max is None:\n",
    "        max = torch.max(A)\n",
    "    mse = torch.mean((A - B)**2, dim=(1,2,3))\n",
    "    psnr = 10 * torch.log10(max**2 / mse)\n",
    "    return psnr"
   ]
  },
  {
   "cell_type": "code",
   "execution_count": null,
   "metadata": {},
   "outputs": [],
   "source": [
    "import torch\n",
    "from torchmetrics.functional import peak_signal_noise_ratio, structural_similarity_index_measure\n",
    "\n",
    "bs = 5\n",
    "A = 255.0*torch.rand(bs, 3, 256, 256)\n",
    "print(A.max(), A.min())\n",
    "B = A + 0.1 * torch.randn(bs, 3, 256, 256)\n",
    "print(B.max(), B.min())\n",
    "\n",
    "print(peak_signal_noise_ratio(A.view(bs, -1), B.view(bs,-1), dim=0, data_range=255.0))\n",
    "print(psnr(A, B, max=255.0).mean())\n",
    "print(structural_similarity_index_measure(A, B, data_range=255.0))\n"
   ]
  },
  {
   "cell_type": "code",
   "execution_count": null,
   "metadata": {},
   "outputs": [],
   "source": [
    "#data_path = '/data/BasesDeDatos/Camelyon/Camelyon17/training/Toy/'\n",
    "camelyon_data_path = '/data/BasesDeDatos/Camelyon/Camelyon17/training/patches_224/'\n",
    "wssb_data_path = '/data/BasesDeDatos/Alsubaie/Data/'\n",
    "\n",
    "#dataloaders = get_dataloaders(args.data_path, args.patch_size, args.batch_size, args.num_workers, val_prop=0.3)\n",
    "train_dataloader, val_dataloader = get_train_dataloaders(camelyon_data_path, 224, 16, 32, val_prop=0.1, n_samples=500, train_centers=[0])\n",
    "val_dataloader = get_wssb_dataloader(wssb_data_path, 32)\n",
    "\n",
    "print(len(train_dataloader), len(val_dataloader))"
   ]
  },
  {
   "cell_type": "code",
   "execution_count": null,
   "metadata": {},
   "outputs": [],
   "source": [
    "model = DVBCDModel(\n",
    "                cnet_name=\"unet6\", mnet_name=\"resnet18ft\", \n",
    "                sigmaRui_sq=torch.tensor([1e-03, 1e-03]), theta_val=0.5, \n",
    "                lr=1e-4, lr_decay=0.1\n",
    "                )\n",
    "model.DP()\n",
    "model.to(DEVICE)\n",
    "#model.set_callbacks([EarlyStopping(model, \"val_loss_mse\", patience=2), History()])\n",
    "#model.fit(1, train_dataloader, val_dataloader, pretraining=True)\n",
    "model.fit(1, train_dataloader, val_dataloader, pretraining=False)\n",
    "#model.save(\"./weights/DVBCDModel_prueba.pth\")\n",
    "#model.load(\"./weights/DVBCDModel_prueba.pth\")\n",
    "#model.to(DEVICE)"
   ]
  },
  {
   "cell_type": "code",
   "execution_count": null,
   "metadata": {},
   "outputs": [],
   "source": [
    "bs = 1\n",
    "Y = torch.randn(bs, 3, 2000, 2000)\n",
    "M = torch.randn(bs, 3, 2)\n",
    "print(Y.shape, M.shape)"
   ]
  },
  {
   "cell_type": "code",
   "execution_count": null,
   "metadata": {},
   "outputs": [],
   "source": [
    "Y = Y.view(bs, 3, -1)\n",
    "C = torch.linalg.lstsq(M, Y).solution\n",
    "C.shape"
   ]
  },
  {
   "cell_type": "code",
   "execution_count": null,
   "metadata": {},
   "outputs": [],
   "source": [
    "img_prueba = train_dataloader.dataset[2][0].unsqueeze(0).to(DEVICE)\n",
    "img_od = train_dataloader.dataset[2][1].unsqueeze(0).to(DEVICE)\n",
    "mean, var, cnet, y_rec = model.forward(img_prueba)\n",
    "cnet_h = cnet[0,0,:,:].cpu().detach().numpy()\n",
    "cnet_e = cnet[0,1,:,:].cpu().detach().numpy()\n",
    "plt.subplot(121)\n",
    "plt.imshow(cnet_h)\n",
    "plt.subplot(122)\n",
    "plt.imshow(cnet_e)\n",
    "plt.show()"
   ]
  },
  {
   "cell_type": "code",
   "execution_count": null,
   "metadata": {},
   "outputs": [],
   "source": [
    "b = y_rec[0,:,:,:].cpu().detach().numpy().transpose(1,2,0)\n",
    "b = undo_normalization(b, np.log(256.0), 0)\n",
    "b = od2rgb_np(b).astype(np.uint8)"
   ]
  },
  {
   "cell_type": "code",
   "execution_count": null,
   "metadata": {},
   "outputs": [],
   "source": [
    "c = img_od[0,:,:,:].cpu().detach().numpy().transpose(1,2,0)\n",
    "c = undo_normalization(c, np.log(256.0), 0)\n",
    "c = od2rgb_np(c).astype(np.uint8)"
   ]
  },
  {
   "cell_type": "code",
   "execution_count": null,
   "metadata": {},
   "outputs": [],
   "source": [
    "plt.subplot(121)\n",
    "plt.imshow(c)\n",
    "plt.subplot(122)\n",
    "plt.imshow(b)\n",
    "plt.show()"
   ]
  }
 ],
 "metadata": {
  "kernelspec": {
   "display_name": "Python 3.9.13 ('DVBCD')",
   "language": "python",
   "name": "python3"
  },
  "language_info": {
   "codemirror_mode": {
    "name": "ipython",
    "version": 3
   },
   "file_extension": ".py",
   "mimetype": "text/x-python",
   "name": "python",
   "nbconvert_exporter": "python",
   "pygments_lexer": "ipython3",
   "version": "3.9.13 (main, Aug 25 2022, 23:26:10) \n[GCC 11.2.0]"
  },
  "orig_nbformat": 4,
  "vscode": {
   "interpreter": {
    "hash": "c6ad41a6645221cf1bf85d33afd32a0947fad2555ebbd1ea9580495d050a48a0"
   }
  }
 },
 "nbformat": 4,
 "nbformat_minor": 2
}
