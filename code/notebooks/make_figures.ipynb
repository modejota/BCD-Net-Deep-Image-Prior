{
 "cells": [
  {
   "cell_type": "code",
   "execution_count": null,
   "metadata": {},
   "outputs": [],
   "source": [
    "import sys\n",
    "# setting path\n",
    "sys.path.append('../')\n",
    "\n",
    "import pandas as pd\n",
    "import numpy as np\n",
    "pd.options.mode.chained_assignment = None  # default='warn'\n",
    "\n",
    "import matplotlib.pyplot as plt\n",
    "plt.rcParams.update({'font.size': 15, 'font.family': 'serif'})"
   ]
  },
  {
   "cell_type": "code",
   "execution_count": null,
   "metadata": {},
   "outputs": [],
   "source": [
    "MAIN_PATH = \"/work/work_fran/Deep_Var_BCD/\"\n",
    "RESULTS_PATH = MAIN_PATH + \"results/metrics/old/\"\n",
    "hyperparam_name = \"theta_val\"\n",
    "hyperparam_show_name = \"theta\""
   ]
  },
  {
   "cell_type": "code",
   "execution_count": null,
   "metadata": {},
   "outputs": [],
   "source": [
    "path = RESULTS_PATH + \"results_wssb_valwssb.csv\"\n",
    "df = pd.read_csv(path)\n",
    "df[\"wssb_mean_test_psnr_gt_h\"] = df[[c for c in df.columns if \"psnr_gt_h\" in c]].mean(axis=1)\n",
    "df[\"wssb_mean_test_psnr_gt_e\"] = df[[c for c in df.columns if \"psnr_gt_e\" in c]].mean(axis=1)\n",
    "df[\"wssb_mean_test_psnr_gt\"] = (df[[\"wssb_mean_test_psnr_gt_h\", \"wssb_mean_test_psnr_gt_e\"]]).mean(axis=1)\n",
    "df = df[[\"theta_val\", \"wssb_mean_test_psnr_gt\", \"wssb_mean_test_psnr_gt_h\", \"wssb_mean_test_psnr_gt_e\"]]\n",
    "df = df.sort_values(by=[hyperparam_name])\n",
    "df"
   ]
  },
  {
   "cell_type": "code",
   "execution_count": null,
   "metadata": {},
   "outputs": [],
   "source": [
    "theta_list = df[\"theta_val\"].tolist()\n",
    "psnr_list = df[\"wssb_mean_test_psnr_gt\"].tolist()\n",
    "psnr_h_list = df[\"wssb_mean_test_psnr_gt_h\"].tolist()\n",
    "psnr_e_list = df[\"wssb_mean_test_psnr_gt_e\"].tolist()"
   ]
  },
  {
   "cell_type": "code",
   "execution_count": null,
   "metadata": {},
   "outputs": [],
   "source": [
    "theta_list = [0.0, 0.1, 0.2, 0.3, 0.4, 0.5, 0.6, 0.7, 0.8, 0.9, 1.0]\n",
    "psnr_list = [22.56715384740678, 24.02954335818215, 24.178953363781883, 24.758709332299613, 23.77804636576819, 23.803124851650658, 22.83639269404941, 21.80841638549926, 21.836745561115322, 21.45944995350308, 20.894883356397113]\n",
    "psnr_h_list = [23.177158575209358, 25.404503898015097, 25.649084272838774, 25.976757185799737, 24.255199364253453, 25.114648402683315, 23.460112639835902, 22.320119789668492, 22.037819120619034, 21.60842960599869, 20.922977402096702]\n",
    "psnr_e_list = [21.9571491196042, 22.6545828183492, 22.70882245472499, 23.54066147879949, 23.300893367282928, 22.491601300618004, 22.21267274826292, 21.296712981330028, 21.635672001611614, 21.310470301007467, 20.866789310697524]"
   ]
  },
  {
   "cell_type": "code",
   "execution_count": null,
   "metadata": {},
   "outputs": [],
   "source": [
    "fig, ax = plt.subplots(1, 1, figsize=(8, 5))\n",
    "ax.plot(theta_list, psnr_list, \"o--\", lw=1.5, color=\"black\", label=\"PSNR\")\n",
    "ax.plot(theta_list, psnr_h_list, \"o--\", lw=1.5, color=\"blueviolet\", label=\"PSNR H\")\n",
    "ax.plot(theta_list, psnr_e_list, \"o--\", lw=1.5, color=\"magenta\", label=\"PSNR E\")\n",
    "ax.set_xlabel(r\"$\\theta$ value\")\n",
    "ax.set_ylabel(\"PSNR\")\n",
    "ax.set_xticks(theta_list)\n",
    "ax.legend()\n",
    "plt.show()"
   ]
  }
 ],
 "metadata": {
  "kernelspec": {
   "display_name": "DVBCD",
   "language": "python",
   "name": "python3"
  },
  "language_info": {
   "codemirror_mode": {
    "name": "ipython",
    "version": 3
   },
   "file_extension": ".py",
   "mimetype": "text/x-python",
   "name": "python",
   "nbconvert_exporter": "python",
   "pygments_lexer": "ipython3",
   "version": "3.9.13 (main, Aug 25 2022, 23:26:10) \n[GCC 11.2.0]"
  },
  "orig_nbformat": 4,
  "vscode": {
   "interpreter": {
    "hash": "c6ad41a6645221cf1bf85d33afd32a0947fad2555ebbd1ea9580495d050a48a0"
   }
  }
 },
 "nbformat": 4,
 "nbformat_minor": 2
}
