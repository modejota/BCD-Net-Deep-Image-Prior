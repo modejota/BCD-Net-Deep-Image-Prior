{
 "cells": [
  {
   "cell_type": "code",
   "execution_count": null,
   "metadata": {},
   "outputs": [],
   "source": [
    "import torch\n",
    "from models import BCDnet\n",
    "import wandb\n",
    "import numpy as np\n",
    "\n",
    "from utils import od2rgb, rgb2od, direct_deconvolution\n",
    "import matplotlib.pyplot as plt\n",
    "\n",
    "from datasets import WSSBDatasetTest"
   ]
  },
  {
   "cell_type": "code",
   "execution_count": null,
   "metadata": {},
   "outputs": [],
   "source": [
    "run_path = 'francastro-team/DVBCD/o0ey5njt'\n",
    "\n",
    "api = wandb.Api()\n",
    "run = api.run(run_path)\n",
    "config = run.config\n",
    "print(config)"
   ]
  },
  {
   "cell_type": "code",
   "execution_count": null,
   "metadata": {},
   "outputs": [],
   "source": [
    "\n",
    "weights_file = run.file('weights/best.pt').download(replace=True)\n",
    "weights_dict = torch.load('weights/best.pt')\n",
    "\n",
    "model = BCDnet(cnet_name='unet_64_6', mnet_name='mobilenetv3s_50')\n",
    "model.load_state_dict(weights_dict)"
   ]
  },
  {
   "cell_type": "code",
   "execution_count": null,
   "metadata": {},
   "outputs": [],
   "source": [
    "dataset = WSSBDatasetTest('/data/datasets/Alsubaie/Data/', organ_list=['Colon'], load_at_init=False)"
   ]
  },
  {
   "cell_type": "code",
   "execution_count": null,
   "metadata": {},
   "outputs": [],
   "source": [
    "img, M_gt = dataset[3]\n",
    "img_np = img.squeeze().detach().cpu().numpy().transpose(1, 2, 0).astype('uint8')\n",
    "img_od = rgb2od(img)\n",
    "M_mean, M_var, C_mean = model(img_od.unsqueeze(0)) # (1, 3, 2), (1, 1, 2), (1, 2, 224, 224)\n",
    "M_mean = M_mean.detach().cpu()\n",
    "M_var = M_var.detach().cpu()\n",
    "C_mean = C_mean.detach().cpu()\n",
    "\n",
    "img_rec_od = torch.einsum('bcs,bshw->bchw', M_mean, C_mean) # (1, 3, 224, 224)\n",
    "img_rec = torch.clamp(od2rgb(img_rec_od), 0.0, 255.0)\n",
    "img_rec_np = img_rec.squeeze().detach().cpu().numpy().transpose(1, 2, 0).astype('uint8')\n",
    "\n",
    "fig, ax = plt.subplots(1, 2, figsize=(8, 4))\n",
    "ax[0].imshow(img_np)\n",
    "ax[0].set_title('Original')\n",
    "ax[0].axis('off')\n",
    "\n",
    "ax[1].imshow(img_rec_np)\n",
    "ax[1].set_title('Reconstructed')\n",
    "ax[1].axis('off')\n",
    "plt.show()"
   ]
  },
  {
   "cell_type": "code",
   "execution_count": null,
   "metadata": {},
   "outputs": [],
   "source": [
    "C_gt = direct_deconvolution(img_od, M_gt)\n",
    "M_gt = M_gt.unsqueeze(0) # (1, 3, 2)\n",
    "C_gt = C_gt.unsqueeze(0) # (1, 2, 224, 224)\n",
    "\n",
    "M_gt_rgb = torch.clamp(od2rgb(M_gt / np.log(256)), 0.0, 255.0) # (1, 3, 2)\n",
    "M_gt_rgb_np = M_gt_rgb.squeeze().detach().cpu().numpy().transpose(1, 0).astype('int') # (2, 3)\n",
    "\n",
    "C_H_gt_od = C_gt[:, 0, :, :].squeeze() # (224, 224)\n",
    "C_H_gt = torch.clamp(od2rgb(C_H_gt_od), 0.0, 255.0)\n",
    "C_H_gt_np = C_gt[:, 0, :, :].squeeze().numpy() # (224, 224)\n",
    "\n",
    "C_E_gt_od = C_gt[:, 1, :, :].squeeze() # (224, 224)\n",
    "C_E_gt = torch.clamp(od2rgb(C_E_gt_od), 0.0, 255.0)\n",
    "C_E_gt_np = C_gt[:, 1, :, :].squeeze().numpy() # (224, 224)\n",
    "\n",
    "fig, ax = plt.subplots(1, 3, figsize=(12, 4))\n",
    "ax[0].imshow(np.expand_dims(M_gt_rgb_np, axis=0))\n",
    "ax[0].set_title('Original M')\n",
    "ax[0].axis('off')\n",
    "\n",
    "ax[1].imshow(C_H_gt_np, cmap='gray')\n",
    "ax[1].set_title('Original Hematoxylin\\nConcentration')\n",
    "ax[1].axis('off')\n",
    "\n",
    "ax[2].imshow(C_E_gt_np, cmap='gray')\n",
    "ax[2].set_title('Original Eosin\\nConcentration')\n",
    "ax[2].axis('off')\n",
    "plt.show()"
   ]
  },
  {
   "cell_type": "code",
   "execution_count": null,
   "metadata": {},
   "outputs": [],
   "source": [
    "H_gt_od = torch.einsum('bcs,bshw->bschw', M_gt, C_gt)[:,0,:,:] # (batch_size, H, W)\n",
    "H_gt = torch.clamp(od2rgb(H_gt_od), 0.0, 255.0) # (batch_size, 3, H, W)\n",
    "E_gt_od = torch.einsum('bcs,bshw->bschw', M_gt, C_gt)[:,1,:,:] # (batch_size, H, W)\n",
    "E_gt = torch.clamp(od2rgb(E_gt_od), 0.0, 255.0) # (batch_size, 3, H, W)\n",
    "\n",
    "H_gt_np = H_gt.squeeze().detach().cpu().numpy().transpose(1, 2, 0).astype('uint8')\n",
    "E_gt_np = E_gt.squeeze().detach().cpu().numpy().transpose(1, 2, 0).astype('uint8')\n",
    "\n",
    "fig, ax = plt.subplots(1, 2, figsize=(8, 4))\n",
    "ax[0].imshow(H_gt_np)\n",
    "ax[0].set_title('Original Hematoxylin')\n",
    "ax[0].axis('off')\n",
    "\n",
    "ax[1].imshow(E_gt_np)\n",
    "ax[1].set_title('Original Eosin')\n",
    "ax[1].axis('off')\n",
    "\n",
    "plt.show()"
   ]
  },
  {
   "cell_type": "code",
   "execution_count": null,
   "metadata": {},
   "outputs": [],
   "source": [
    "M_rec_rgb = torch.clamp(od2rgb(M_mean / np.log(256)), 0.0, 255.0) # (1, 3, 2)\n",
    "M_rec_rgb_np = M_rec_rgb.squeeze().detach().cpu().numpy().transpose(1, 0).astype('int') # (2, 3)\n",
    "\n",
    "C_H_rec_od = C_mean[:, 0, :, :].squeeze() # (224, 224)\n",
    "C_H_rec = torch.clamp(od2rgb(C_H_rec_od), 0.0, 255.0)\n",
    "C_H_rec_np = C_mean[:, 0, :, :].squeeze().numpy() # (224, 224)\n",
    "\n",
    "C_E_rec_od = C_mean[:, 1, :, :].squeeze() # (224, 224)\n",
    "C_E_rec = torch.clamp(od2rgb(C_E_rec_od), 0.0, 255.0)\n",
    "C_E_rec_np = C_mean[:, 1, :, :].squeeze().numpy() # (224, 224)\n",
    "\n",
    "fig, ax = plt.subplots(1, 3, figsize=(12, 4))\n",
    "\n",
    "ax[0].imshow(np.expand_dims(M_rec_rgb_np, axis=0))\n",
    "ax[0].set_title('Reconstructed M')\n",
    "ax[0].axis('off')\n",
    "\n",
    "ax[1].imshow(C_H_rec_np, cmap='gray')\n",
    "ax[1].set_title('Reconstructed Hematoxylin\\nConcentration')\n",
    "ax[1].axis('off')\n",
    "\n",
    "ax[2].imshow(C_E_rec_np, cmap='gray')\n",
    "ax[2].set_title('Reconstructed Eosin\\nConcentration')\n",
    "ax[2].axis('off')\n",
    "plt.show()"
   ]
  },
  {
   "cell_type": "code",
   "execution_count": null,
   "metadata": {},
   "outputs": [],
   "source": [
    "H_rec_od = torch.einsum('bcs,bshw->bschw', M_mean, C_mean)[:,0,:,:] # (batch_size, H, W)\n",
    "H_rec = torch.clamp(od2rgb(H_rec_od), 0.0, 255.0) # (batch_size, 3, H, W)\n",
    "E_rec_od = torch.einsum('bcs,bshw->bschw', M_mean, C_mean)[:,1,:,:] # (batch_size, H, W)\n",
    "E_rec = torch.clamp(od2rgb(E_rec_od), 0.0, 255.0) # (batch_size, 3, H, W)\n",
    "\n",
    "H_rec_np = H_rec.squeeze().detach().cpu().numpy().transpose(1, 2, 0).astype('uint8')\n",
    "E_rec_np = E_rec.squeeze().detach().cpu().numpy().transpose(1, 2, 0).astype('uint8')\n",
    "\n",
    "fig, ax = plt.subplots(1, 2, figsize=(8, 4))\n",
    "\n",
    "ax[0].imshow(H_rec_np)\n",
    "ax[0].set_title('Reconstructed Hematoxylin')\n",
    "ax[0].axis('off')\n",
    "\n",
    "ax[1].imshow(E_rec_np)\n",
    "ax[1].set_title('Reconstructed Eosin')\n",
    "ax[1].axis('off')\n",
    "\n",
    "plt.show()"
   ]
  },
  {
   "cell_type": "code",
   "execution_count": null,
   "metadata": {},
   "outputs": [],
   "source": [
    "from engine import evaluate_GT\n",
    "\n",
    "wssb_dataloader_dic = {}\n",
    "for organ in ['Lung', 'Breast', 'Colon']:\n",
    "    wssb_dataset = WSSBDatasetTest('/data/datasets/Alsubaie/Data/', organ_list=[organ], load_at_init=False)\n",
    "    wssb_dataloader_dic[organ] = torch.utils.data.DataLoader(wssb_dataset, batch_size=1, shuffle=False)\n",
    "\n",
    "metrics_organ = {}\n",
    "for organ in ['Lung', 'Breast', 'Colon']:\n",
    "    m = evaluate_GT(model, wssb_dataloader_dic[organ], sigma_rui_sq=0.05, theta_val=0.3, device='cpu')\n",
    "    metrics_organ[organ] = m\n",
    "metrics = {}\n",
    "metrics_list = metrics_organ['Lung'].keys()\n",
    "\n",
    "for metric in metrics_list:\n",
    "    metrics[f'test/wssb/{metric}'] = np.mean([metrics_organ[organ][metric] for organ in metrics_organ])\n",
    "    for organ in metrics_organ:\n",
    "        metrics[f'test/wssb/{organ}/{metric}'] = m[metric]"
   ]
  },
  {
   "cell_type": "code",
   "execution_count": null,
   "metadata": {},
   "outputs": [],
   "source": [
    "psnr_metrics = [m for m in metrics.keys() if 'psnr' in m]\n",
    "for metric in psnr_metrics:\n",
    "        print('{:<25s}: {:s}'.format(metric, str(metrics[metric])))"
   ]
  }
 ],
 "metadata": {
  "kernelspec": {
   "display_name": "DVBCD",
   "language": "python",
   "name": "python3"
  },
  "language_info": {
   "codemirror_mode": {
    "name": "ipython",
    "version": 3
   },
   "file_extension": ".py",
   "mimetype": "text/x-python",
   "name": "python",
   "nbconvert_exporter": "python",
   "pygments_lexer": "ipython3",
   "version": "3.9.13"
  },
  "orig_nbformat": 4
 },
 "nbformat": 4,
 "nbformat_minor": 2
}
