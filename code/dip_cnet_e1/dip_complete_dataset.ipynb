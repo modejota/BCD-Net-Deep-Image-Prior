{
 "cells": [
  {
   "cell_type": "code",
   "execution_count": 3,
   "metadata": {},
   "outputs": [],
   "source": [
    "import os\n",
    "os.environ['CUDA_DEVICE_ORDER']=\"PCI_BUS_ID\"\n",
    "os.environ['CUDA_VISIBLE_DEVICES']=\"2\""
   ]
  },
  {
   "cell_type": "code",
   "execution_count": 4,
   "metadata": {},
   "outputs": [],
   "source": [
    "import time\n",
    "import torch\n",
    "import numpy as np\n",
    "import matplotlib.pyplot as plt\n",
    "\n",
    "os.chdir(\"../\") # So it finds the imports in upper directory, although it should.\n",
    "\n",
    "from models import Cnet\n",
    "from datasets import WSSBDatasetTest\n",
    "from utils import od2rgb, rgb2od, random_ruifrok_matrix_variation, direct_deconvolution, peak_signal_noise_ratio"
   ]
  },
  {
   "cell_type": "code",
   "execution_count": 5,
   "metadata": {},
   "outputs": [],
   "source": [
    "RUNNING_ON_DELFOS = False\n",
    "\n",
    "torch.manual_seed(0)\n",
    "plt.rcParams['font.size'] = 14\n",
    "plt.rcParams['toolbar'] = 'None'"
   ]
  },
  {
   "cell_type": "code",
   "execution_count": 6,
   "metadata": {},
   "outputs": [
    {
     "name": "stdout",
     "output_type": "stream",
     "text": [
      "Using device: cpu\n"
     ]
    }
   ],
   "source": [
    "device = torch.device('cuda' if torch.cuda.is_available() else 'cpu')\n",
    "print('Using device:', device)"
   ]
  },
  {
   "cell_type": "code",
   "execution_count": 7,
   "metadata": {},
   "outputs": [],
   "source": [
    "alsubaie_dataset_path = '/data/datasets/Alsubaie/Data/' if RUNNING_ON_DELFOS else '../Alsubaie/Data/'\n",
    "organ_list = ['Colon']  # ['Lung', 'Breast', 'Colon']"
   ]
  },
  {
   "cell_type": "code",
   "execution_count": null,
   "metadata": {},
   "outputs": [],
   "source": [
    "for organ in organ_list:\n",
    "    dataset = WSSBDatasetTest(alsubaie_dataset_path, organ_list=organ, load_at_init=False)\n",
    "\n",
    "    # Train the model and evaluate. \n",
    "    # Tiene la complicación de en que momento se para el entrenamiento de cada imagen y se suma la métrica para la media. Pensar"
   ]
  }
 ],
 "metadata": {
  "kernelspec": {
   "display_name": "BCDNET",
   "language": "python",
   "name": "python3"
  },
  "language_info": {
   "codemirror_mode": {
    "name": "ipython",
    "version": 3
   },
   "file_extension": ".py",
   "mimetype": "text/x-python",
   "name": "python",
   "nbconvert_exporter": "python",
   "pygments_lexer": "ipython3",
   "version": "3.9.13"
  },
  "orig_nbformat": 4
 },
 "nbformat": 4,
 "nbformat_minor": 2
}
