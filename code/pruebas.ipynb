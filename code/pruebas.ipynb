{
 "cells": [
  {
   "cell_type": "code",
   "execution_count": 1,
   "metadata": {},
   "outputs": [],
   "source": [
    "import os\n",
    "import glob\n",
    "\n",
    "import matplotlib.pyplot as plt\n",
    "import numpy as np\n",
    "\n",
    "from utils.datasets import WSSBDatasetTest\n",
    "from utils.utils_BCD import od2rgb_np, C_to_RGB_np\n",
    "\n",
    "from utils.utils_data import get_camelyon_test_dataloader, get_wssb_test_dataloader"
   ]
  },
  {
   "cell_type": "code",
   "execution_count": 2,
   "metadata": {},
   "outputs": [
    {
     "name": "stdout",
     "output_type": "stream",
     "text": [
      "aaaaaaaaaa\n",
      "1\n",
      "Available patches: 1813651\n"
     ]
    }
   ],
   "source": [
    "a = get_camelyon_test_dataloader(\"/data/BasesDeDatos/Camelyon/Camelyon17/training/patches_224/\", patch_size=224, num_workers=64)"
   ]
  },
  {
   "cell_type": "code",
   "execution_count": null,
   "metadata": {},
   "outputs": [],
   "source": [
    "b = get_wssb_test_dataloader(\"/data/BasesDeDatos/Alsubaie/Data/\", num_workers=64)"
   ]
  },
  {
   "cell_type": "code",
   "execution_count": null,
   "metadata": {},
   "outputs": [],
   "source": [
    "prueba = WSSBDatasetTest(\"/data/BasesDeDatos/Alsubaie/Data/\")"
   ]
  },
  {
   "cell_type": "code",
   "execution_count": null,
   "metadata": {},
   "outputs": [],
   "source": [
    "img, od_img, mR, C_gt, M_gt = prueba[0]"
   ]
  },
  {
   "cell_type": "code",
   "execution_count": null,
   "metadata": {},
   "outputs": [],
   "source": [
    "plt.subplot(121)\n",
    "plt.imshow(C_gt[0],cmap='gray')\n",
    "plt.subplot(122)\n",
    "plt.imshow(C_gt[1],cmap='gray')\n",
    "plt.show()"
   ]
  },
  {
   "cell_type": "code",
   "execution_count": null,
   "metadata": {},
   "outputs": [],
   "source": [
    "M_gt.shape"
   ]
  },
  {
   "cell_type": "code",
   "execution_count": null,
   "metadata": {},
   "outputs": [],
   "source": [
    "C_rgb = C_to_RGB_np(C_gt, M_gt)\n",
    "plt.subplot(121)\n",
    "plt.imshow(C_rgb[0, :, :, :])\n",
    "plt.subplot(122)\n",
    "plt.imshow(C_rgb[1, :, :, :])\n",
    "plt.show()"
   ]
  },
  {
   "cell_type": "code",
   "execution_count": null,
   "metadata": {},
   "outputs": [],
   "source": [
    "M_gt = M_gt.reshape(1, 3, 2)\n",
    "C_gt = C_gt.reshape(1, 2, 2000, 2000)\n",
    "print(M_gt.shape, C_gt.shape)"
   ]
  },
  {
   "cell_type": "code",
   "execution_count": null,
   "metadata": {},
   "outputs": [],
   "source": [
    "A = np.einsum('bcs, bswh -> bschw', M_gt, C_gt)\n",
    "A = np.clip(od2rgb_np(A), 0, 255).astype(np.uint8)\n",
    "A.shape"
   ]
  },
  {
   "cell_type": "code",
   "execution_count": null,
   "metadata": {},
   "outputs": [],
   "source": [
    "plt.subplot(121)\n",
    "plt.imshow(A[0, 0, :, :, :].transpose(1, 2, 0))\n",
    "plt.subplot(122)\n",
    "plt.imshow(A[0, 1, :, :, :].transpose(1, 2, 0))\n",
    "plt.show()"
   ]
  }
 ],
 "metadata": {
  "kernelspec": {
   "display_name": "Python 3.9.13 ('DVBCD')",
   "language": "python",
   "name": "python3"
  },
  "language_info": {
   "codemirror_mode": {
    "name": "ipython",
    "version": 3
   },
   "file_extension": ".py",
   "mimetype": "text/x-python",
   "name": "python",
   "nbconvert_exporter": "python",
   "pygments_lexer": "ipython3",
   "version": "3.9.13"
  },
  "orig_nbformat": 4,
  "vscode": {
   "interpreter": {
    "hash": "c6ad41a6645221cf1bf85d33afd32a0947fad2555ebbd1ea9580495d050a48a0"
   }
  }
 },
 "nbformat": 4,
 "nbformat_minor": 2
}
