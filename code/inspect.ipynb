{
 "cells": [
  {
   "cell_type": "code",
   "execution_count": null,
   "metadata": {},
   "outputs": [],
   "source": [
    "import torch\n",
    "from models import BCDnet\n",
    "import wandb"
   ]
  },
  {
   "cell_type": "code",
   "execution_count": null,
   "metadata": {},
   "outputs": [],
   "source": [
    "run_path = 'francastro-team/DVBCD/cj1p1dw1'\n",
    "\n",
    "api = wandb.Api()\n",
    "run = api.run(run_path)\n",
    "config = run.config\n",
    "print(config)"
   ]
  },
  {
   "cell_type": "code",
   "execution_count": null,
   "metadata": {},
   "outputs": [],
   "source": [
    "weights_file = run.file('weights/best.pt').download(replace=True)\n",
    "weights_dict = torch.load('weights/best.pt')"
   ]
  },
  {
   "cell_type": "code",
   "execution_count": null,
   "metadata": {},
   "outputs": [],
   "source": [
    "model = BCDnet(cnet_name=config['cnet_name'], mnet_name=config['mnet_name'])\n",
    "model.load_state_dict(weights_dict)"
   ]
  },
  {
   "cell_type": "code",
   "execution_count": null,
   "metadata": {},
   "outputs": [],
   "source": [
    "from datasets import CamelyonDataset\n",
    "dataset = CamelyonDataset(config['camelyon_data_path'], centers=[0], patch_size=config['patch_size'], n_samples=100, load_at_init=False)"
   ]
  },
  {
   "cell_type": "code",
   "execution_count": null,
   "metadata": {},
   "outputs": [],
   "source": [
    "from utils import od2rgb, rgb2od\n",
    "import matplotlib.pyplot as plt\n",
    "\n",
    "img = dataset[3]\n",
    "img_np = img.squeeze().detach().cpu().numpy().transpose(1, 2, 0).astype('uint8')\n",
    "img_od = rgb2od(img)\n",
    "M_mean, M_var, C_mean = model(img_od.unsqueeze(0)) # (1, 3, 2), (1, 1, 2), (1, 2, 224, 224)\n",
    "img_rec_od = torch.einsum('bcs,bshw->bchw', M_mean, C_mean) # (1, 3, 224, 224)\n",
    "img_rec = torch.clamp(od2rgb(img_rec_od), 0.0, 255.0)\n",
    "img_rec_np = img_rec.squeeze().detach().cpu().numpy().transpose(1, 2, 0).astype('uint8')\n",
    "\n",
    "fig, ax = plt.subplots(1, 2)\n",
    "ax[0].imshow(img_np)\n",
    "ax[0].set_title('Original')\n",
    "ax[0].axis('off')\n",
    "\n",
    "ax[1].imshow(img_rec_np)\n",
    "ax[1].set_title('Reconstructed')\n",
    "ax[1].axis('off')\n",
    "plt.show()"
   ]
  },
  {
   "cell_type": "code",
   "execution_count": null,
   "metadata": {},
   "outputs": [],
   "source": [
    "from datasets import WSSBDatasetTest\n",
    "dataset = WSSBDatasetTest(config['wssb_data_path'], organ_list=['Colon'], load_at_init=False)"
   ]
  },
  {
   "cell_type": "code",
   "execution_count": null,
   "metadata": {},
   "outputs": [],
   "source": [
    "img, M_gt = dataset[3]\n",
    "img_np = img.squeeze().detach().cpu().numpy().transpose(1, 2, 0).astype('uint8')\n",
    "img_od = rgb2od(img)\n",
    "M_mean, M_var, C_mean = model(img_od.unsqueeze(0)) # (1, 3, 2), (1, 1, 2), (1, 2, 224, 224)\n",
    "img_rec_od = torch.einsum('bcs,bshw->bchw', M_mean, C_mean) # (1, 3, 224, 224)\n",
    "img_rec = torch.clamp(od2rgb(img_rec_od), 0.0, 255.0)\n",
    "img_rec_np = img_rec.squeeze().detach().cpu().numpy().transpose(1, 2, 0).astype('uint8')\n",
    "\n",
    "fig, ax = plt.subplots(1, 2)\n",
    "ax[0].imshow(img_np)\n",
    "ax[0].set_title('Original')\n",
    "ax[0].axis('off')\n",
    "\n",
    "ax[1].imshow(img_rec_np)\n",
    "ax[1].set_title('Reconstructed')\n",
    "ax[1].axis('off')\n",
    "plt.show()\n"
   ]
  },
  {
   "cell_type": "code",
   "execution_count": null,
   "metadata": {},
   "outputs": [],
   "source": [
    "from utils import direct_deconvolution\n",
    "\n",
    "img, M_gt = dataset[0]\n",
    "img_od = rgb2od(img)\n",
    "\n",
    "M_mean, M_var, C_mean = model(img_od.unsqueeze(0)) # (1, 3, 2), (1, 1, 2), (1, 2, 224, 224)\n",
    "\n",
    "H_rec_od = torch.einsum('bcs,bshw->bschw', M_mean, C_mean)[:,0,:,:] # (batch_size, H, W)\n",
    "H_rec = torch.clamp(od2rgb(H_rec_od), 0.0, 255.0) # (batch_size, 3, H, W)\n",
    "E_rec_od = torch.einsum('bcs,bshw->bschw', M_mean, C_mean)[:,1,:,:] # (batch_size, H, W)\n",
    "E_rec = torch.clamp(od2rgb(E_rec_od), 0.0, 255.0) # (batch_size, 3, H, W)\n",
    "\n",
    "H_rec_np = H_rec.squeeze().detach().cpu().numpy().transpose(1, 2, 0).astype('uint8')\n",
    "E_rec_np = E_rec.squeeze().detach().cpu().numpy().transpose(1, 2, 0).astype('uint8')\n",
    "\n",
    "C_gt = direct_deconvolution(img_od, M_gt)\n",
    "M_gt = M_gt.unsqueeze(0) # (1, 3, 2)\n",
    "C_gt = C_gt.unsqueeze(0) # (1, 2, 224, 224)\n",
    "\n",
    "H_gt_od = torch.einsum('bcs,bshw->bschw', M_gt, C_gt)[:,0,:,:] # (batch_size, H, W)\n",
    "H_gt = torch.clamp(od2rgb(H_gt_od), 0.0, 255.0) # (batch_size, 3, H, W)\n",
    "E_gt_od = torch.einsum('bcs,bshw->bschw', M_gt, C_gt)[:,1,:,:] # (batch_size, H, W)\n",
    "E_gt = torch.clamp(od2rgb(E_gt_od), 0.0, 255.0) # (batch_size, 3, H, W)\n",
    "\n",
    "H_gt_np = H_gt.squeeze().detach().cpu().numpy().transpose(1, 2, 0).astype('uint8')\n",
    "E_gt_np = E_gt.squeeze().detach().cpu().numpy().transpose(1, 2, 0).astype('uint8')\n",
    "\n",
    "fig, ax = plt.subplots(2, 2)\n",
    "ax[0,0].imshow(H_gt_np)\n",
    "ax[0,0].set_title('Ground truth Hematoxylin')\n",
    "ax[0,0].axis('off')\n",
    "\n",
    "ax[0,1].imshow(H_rec_np)\n",
    "ax[0,1].set_title('Reconstructed Hematoxylin')\n",
    "ax[0,1].axis('off')\n",
    "\n",
    "ax[1,0].imshow(E_gt_np)\n",
    "ax[1,0].set_title('Ground truth Eosin')\n",
    "ax[1,0].axis('off')\n",
    "\n",
    "ax[1,1].imshow(E_rec_np)\n",
    "ax[1,1].set_title('Reconstructed Eosin')\n",
    "ax[1,1].axis('off')\n",
    "plt.show()"
   ]
  }
 ],
 "metadata": {
  "kernelspec": {
   "display_name": "DVBCD",
   "language": "python",
   "name": "python3"
  },
  "language_info": {
   "codemirror_mode": {
    "name": "ipython",
    "version": 3
   },
   "file_extension": ".py",
   "mimetype": "text/x-python",
   "name": "python",
   "nbconvert_exporter": "python",
   "pygments_lexer": "ipython3",
   "version": "3.9.13"
  },
  "orig_nbformat": 4
 },
 "nbformat": 4,
 "nbformat_minor": 2
}
